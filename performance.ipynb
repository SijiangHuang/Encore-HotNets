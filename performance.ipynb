{
 "cells": [
  {
   "cell_type": "code",
   "execution_count": 1,
   "metadata": {},
   "outputs": [],
   "source": [
    "import os\n",
    "import sys\n",
    "import pandas as pd\n",
    "import numpy as np\n",
    "import time\n",
    "from collections import defaultdict\n",
    "from tqdm import tqdm\n",
    "import torch\n",
    "from torch import nn\n",
    "from torch.utils.data import DataLoader\n",
    "from utils.dataset import *\n",
    "from size_gru import GRU, SizeToHidden\n",
    "from size_vae import SizeEncoder, SizeDecoder\n",
    "device = torch.device('cuda' if torch.cuda.is_available() else 'cpu')"
   ]
  },
  {
   "cell_type": "code",
   "execution_count": 2,
   "metadata": {},
   "outputs": [],
   "source": [
    "os.chdir(sys.path[0])\n",
    "pairs = 1000\n",
    "pairdata, freqpairs, n_size, n_interval = get_univ_data(pairs)\n",
    "sizedata = get_data(pairdata, freqpairs, 'size_index', n_size)\n",
    "size_cdf = pd.read_csv('data/univ/size_cdf.csv')"
   ]
  },
  {
   "cell_type": "code",
   "execution_count": null,
   "metadata": {},
   "outputs": [],
   "source": [
    "decoder = torch.load('model/final/vae-decoder.pth')\n",
    "gru = torch.load('model/final/gru.pth')\n",
    "s2h = torch.load('model/final/s2h.pth')\n",
    "vae_latent_dim = decoder.decoder[0][0].in_features\n",
    "gru_hidden_size = gru.gru.hidden_size"
   ]
  },
  {
   "cell_type": "code",
   "execution_count": 4,
   "metadata": {},
   "outputs": [],
   "source": [
    "def inputTensor(lines):\n",
    "    tensor = torch.zeros(lines.shape[1], lines.shape[0], n_size, dtype=torch.long)\n",
    "    for line in range(lines.shape[0]):\n",
    "        for i in range(lines.shape[1]):\n",
    "            size = lines[line][i]\n",
    "            tensor[i][line][size] = 1\n",
    "    return tensor\n",
    "\n",
    "def get_mean_interval(mean_size, load):\n",
    "    return 1/(100E9*load/8./mean_size) * 1E9\n",
    "\n",
    "def sample_size(cdf, index):\n",
    "    if index == 0:\n",
    "        return cdf.iloc[0]['size']\n",
    "    return cdf.iloc[index - 1]['size'] + np.random.rand() * (cdf.iloc[index]['size'] - cdf.iloc[index - 1]['size'])\n",
    "\n",
    "all_size = []\n",
    "for i in range(pairs):\n",
    "    all_size.extend(list(pairdata[freqpairs[i]]['size_index'].values))\n",
    "values, counts = np.unique(all_size, return_counts=True)\n",
    "all_size = np.zeros(n_size, dtype=np.float64)\n",
    "all_size[values] = counts\n",
    "all_size /= all_size.sum()\n",
    "\n",
    "def gen_real(seed, pair, load, n):\n",
    "    np.random.seed(seed)\n",
    "    size_index = pairdata[freqpairs[pair]]['size_index'].values\n",
    "    sizes = []\n",
    "    while len(sizes) < n:\n",
    "        sizes += list(size_index)\n",
    "    sizes = np.array(sizes)[:n]\n",
    "    sizes = np.array([sample_size(size_cdf, i) for i in sizes])\n",
    "    mean_size = int(get_mean_interval(np.mean(sizes), load))\n",
    "    intervals = np.random.exponential(mean_size, n).astype(int)\n",
    "    return sizes, intervals\n",
    "\n",
    "\n",
    "def gen_common(seed, pair, load, n):\n",
    "    np.random.seed(seed)\n",
    "    sizes = []\n",
    "    while len(sizes) < n:\n",
    "        sizes.append(np.random.choice(n_size, p=all_size))\n",
    "    sizes = np.array([sample_size(size_cdf, i) for i in sizes])\n",
    "    mean_size = int(get_mean_interval(np.mean(sizes), load))\n",
    "    intervals = np.random.exponential(mean_size, n).astype(int)\n",
    "    return sizes, intervals\n",
    "\n",
    "\n",
    "def sample_batch(size_data, seq_length, start_size, batch_size):\n",
    "    gru.eval() \n",
    "    s2h.eval()\n",
    "    softmax = nn.Softmax(dim=2).to(device)\n",
    "    with torch.no_grad():  # no need to track history in sampling\n",
    "        size_tensor = torch.tensor(size_data, dtype=torch.float).to(device)\n",
    "        hn = s2h(size_tensor)\n",
    "        size = start_size\n",
    "        output_seq = [size]\n",
    "        for _ in range(seq_length - 1):\n",
    "            input = inputTensor(np.array([size])).to(device)\n",
    "            input = input.float().permute(1,0,2)\n",
    "            output, hn = gru(input, hn)\n",
    "            output = softmax(output)\n",
    "            p_size = output.detach().cpu().numpy().squeeze()\n",
    "            size = [np.random.choice(n_size, p=p_size[i]) for i in range(batch_size)]\n",
    "            output_seq.append(size)\n",
    "        return output_seq\n",
    "\n",
    "\n",
    "def gen_encore(load, n):\n",
    "    batch_size = 1000\n",
    "    torch.manual_seed(0)\n",
    "    z = torch.randn((batch_size, vae_latent_dim)).to(device)\n",
    "    size = decoder(z)\n",
    "    size = size.squeeze().detach().to('cpu').numpy().astype(np.float64)\n",
    "    size[size < 1e-3] = 0\n",
    "    size /= size.sum(axis=1).reshape(-1, 1)\n",
    "    start_size = [np.random.choice(n_size, p=size[i]) for i in range(batch_size)]\n",
    "    size_index = []\n",
    "    while len(size_index) < n:\n",
    "        output_seq = sample_batch(size, 16, start_size, batch_size)\n",
    "        size_index += output_seq[1:]\n",
    "        start_size = output_seq[-1]\n",
    "    size_index = np.array(size_index).T\n",
    "    sizes, intervals = [], []\n",
    "    for i in tqdm(range(batch_size)):\n",
    "        sizes.append([int(sample_size(size_cdf, j)) for j in size_index[i]])\n",
    "        mean_size = int(get_mean_interval(np.mean(sizes[i]), load))\n",
    "        intervals.append(np.random.exponential(mean_size, n).astype(int))\n",
    "    return sizes, intervals"
   ]
  },
  {
   "cell_type": "code",
   "execution_count": 5,
   "metadata": {},
   "outputs": [],
   "source": [
    "class Flow:\n",
    "\tdef __init__(self, src, dst, size, t):\n",
    "\t\tself.src, self.dst, self.size, self.t = src, dst, size, t\n",
    "\tdef __str__(self):\n",
    "\t\treturn \"%d %d 3 100 %d %.9f\"%(self.src, self.dst, self.size, self.t)\n",
    "\n",
    "def gen_traces(dir, func, load, n):\n",
    "    for trace in tqdm(range(1000)):\n",
    "        np.random.seed(trace)\n",
    "        src = 1\n",
    "        dst = 0\n",
    "        sizes, intervals = func(trace, trace, load, n)\n",
    "        base_t = 2e9\n",
    "        f_list = []\n",
    "        t = base_t\n",
    "        for size, interval in zip(sizes, intervals):\n",
    "            t += interval\n",
    "            f_list.append(Flow(src, dst, size, t * 1e-9))\n",
    "            if t >= base_t + 1e9:\n",
    "                break\n",
    "                \n",
    "        flow_file = '{dir}/trace{trace}.txt'.format(trace=trace, dir=dir)\n",
    "        f = open(flow_file, 'w')\n",
    "        f_list.sort(key = lambda x: x.t)\n",
    "        f.write(str(len(f_list)) + '\\n')\n",
    "        for flow in f_list:\n",
    "            f.write(str(flow) + '\\n')\n",
    "        f.close()"
   ]
  },
  {
   "cell_type": "code",
   "execution_count": 28,
   "metadata": {},
   "outputs": [
    {
     "name": "stderr",
     "output_type": "stream",
     "text": [
      "100%|██████████| 1000/1000 [07:13<00:00,  2.30it/s]\n"
     ]
    }
   ],
   "source": [
    "trace_dir = './simulation/data/trace/ground_truth'\n",
    "if not os.path.exists(trace_dir):\n",
    "    os.makedirs(trace_dir)\n",
    "gen_traces(trace_dir, gen_real, 0.03, 5000)"
   ]
  },
  {
   "cell_type": "code",
   "execution_count": 30,
   "metadata": {},
   "outputs": [
    {
     "name": "stderr",
     "output_type": "stream",
     "text": [
      "100%|██████████| 1000/1000 [08:09<00:00,  2.04it/s]\n"
     ]
    }
   ],
   "source": [
    "trace_dir = './simulation/data/trace/common_practice'\n",
    "if not os.path.exists(trace_dir):\n",
    "    os.makedirs(trace_dir)\n",
    "gen_traces(trace_dir, gen_common, 0.03, 5000)"
   ]
  },
  {
   "cell_type": "code",
   "execution_count": 10,
   "metadata": {},
   "outputs": [
    {
     "name": "stderr",
     "output_type": "stream",
     "text": [
      "100%|██████████| 1000/1000 [07:00<00:00,  2.38it/s]\n",
      "100%|██████████| 1000/1000 [00:11<00:00, 85.81it/s]\n"
     ]
    }
   ],
   "source": [
    "trace_dir = './simulation/data/trace/encore'\n",
    "if not os.path.exists(trace_dir):\n",
    "    os.makedirs(trace_dir)\n",
    "src = 1\n",
    "dst = 0\n",
    "load = 0.03\n",
    "n = 5000\n",
    "sizes, intervals = gen_encore(load, n)\n",
    "for trace in tqdm(range(1000)):\n",
    "    base_t = 2e9\n",
    "    f_list = []\n",
    "    t = base_t\n",
    "    for size, interval in  zip(sizes[trace], intervals[trace]):\n",
    "        t += interval\n",
    "        f_list.append(Flow(src, dst, size, t * 1e-9))\n",
    "        if t >= base_t + 1e9:\n",
    "            break\n",
    "            \n",
    "    flow_file = '{dir}/trace{trace}.txt'.format(trace=trace, dir=trace_dir)\n",
    "    f = open(flow_file, 'w')\n",
    "    f_list.sort(key = lambda x: x.t)\n",
    "    f.write(str(len(f_list)) + '\\n')\n",
    "    for flow in f_list:\n",
    "        f.write(str(flow) + '\\n')\n",
    "    f.close()"
   ]
  },
  {
   "cell_type": "code",
   "execution_count": 3,
   "metadata": {},
   "outputs": [],
   "source": [
    "def get_mean_fcts(dir):\n",
    "    mean_fcts = []\n",
    "    for i in range(1000):\n",
    "        fct = pd.read_csv('simulation/data/result/{dir}/config0_trace{i}/fct.csv'.format(i=i, dir=dir)).sort_values('fid')\n",
    "        slowdown = fct['fct'] / fct['standalone_fct']\n",
    "        slowdown[slowdown < 1] = 1\n",
    "        # print(i, np.mean(slowdown), np.median(slowdown), np.percentile(slowdown, 90), np.percentile(slowdown, 95))\n",
    "        mean_fcts.append(np.mean(slowdown))\n",
    "    return mean_fcts\n",
    "\n",
    "mean_fcts = {}\n",
    "log_fcts = {}\n",
    "for dir in ['ground_truth', 'common_practice', 'encore']:\n",
    "    mean_fcts[dir] = get_mean_fcts(dir)\n",
    "    log_fcts[dir] = np.log2(mean_fcts[dir])"
   ]
  },
  {
   "cell_type": "code",
   "execution_count": 5,
   "metadata": {},
   "outputs": [
    {
     "name": "stdout",
     "output_type": "stream",
     "text": [
      "0.0 5.494121405571538\n",
      "1.3129577482860166 5.08838659463432\n",
      "0.0 5.053082609885752\n"
     ]
    }
   ],
   "source": [
    "for dir in ['ground_truth', 'common_practice', 'encore']:\n",
    "    print(np.min(log_fcts[dir]), np.max(log_fcts[dir]))"
   ]
  },
  {
   "cell_type": "code",
   "execution_count": 17,
   "metadata": {},
   "outputs": [
    {
     "data": {
      "image/png": "[encoded data removed]",
      "text/plain": [
       "<Figure size 600x300 with 1 Axes>"
      ]
     },
     "metadata": {},
     "output_type": "display_data"
    }
   ],
   "source": [
    "import matplotlib.pyplot as plt\n",
    "\n",
    "labels = ['Ground Truth', 'Common Practice', 'Encore']\n",
    "cMap = {\n",
    "    'ground_truth': 'SeaGreen',\n",
    "    'common_practice': 'IndianRed',\n",
    "    'encore': 'CornFlowerBlue',\n",
    "}\n",
    "\n",
    "plt.figure(figsize=(6, 3))\n",
    "plt.subplots_adjust(left=0.15, top=0.98, bottom=0.25, right=0.98)\n",
    "ax = plt.subplot(111)\n",
    "ax.spines['top'].set_visible(False)\n",
    "ax.spines['right'].set_visible(False)\n",
    "\n",
    "for i, dir in enumerate(['ground_truth', 'common_practice', 'encore']):\n",
    "    counts, bins = np.histogram(log_fcts[dir], bins=np.arange(np.min(log_fcts[dir]), np.max(log_fcts[dir]) + 0.1, 0.1))\n",
    "    counts = np.cumsum(counts) / counts.sum()\n",
    "    plt.plot(bins[:-1], counts, label=labels[i], color=cMap[dir], linewidth=2)\n",
    "\n",
    "plt.legend(fontsize=18, frameon=False, loc=(0.4, -0.02))\n",
    "plt.xlabel('log2(slowdown)', fontsize=20)\n",
    "plt.ylabel('CDF', fontsize=20)\n",
    "plt.xticks(np.arange(7), fontsize=20)\n",
    "plt.yticks(fontsize=20)\n",
    "plt.grid(linestyle='-.')\n",
    "\n",
    "plt.savefig('figure/univ-performance.pdf', dpi=400)"
   ]
  },
  {
   "cell_type": "code",
   "execution_count": 8,
   "metadata": {},
   "outputs": [
    {
     "data": {
      "text/plain": [
       "11.63785865959865"
      ]
     },
     "execution_count": 8,
     "metadata": {},
     "output_type": "execute_result"
    }
   ],
   "source": [
    "cdfs = {}\n",
    "for i, dir in enumerate(['ground_truth', 'common_practice', 'encore']):\n",
    "    counts, bins = np.histogram(mean_fcts[dir], bins=np.arange(0, 40, 0.1))\n",
    "    cdfs[dir] = np.cumsum(counts) / counts.sum()\n",
    "\n",
    "cramer_dis = {}\n",
    "cramer_dis['common_practice'] = np.sum(np.abs(cdfs['common_practice'] - cdfs['ground_truth']))\n",
    "cramer_dis['encore'] = np.sum(np.abs(cdfs['encore'] - cdfs['ground_truth']))\n",
    "cramer_dis['common_practice'] / cramer_dis['encore']"
   ]
  },
  {
   "cell_type": "code",
   "execution_count": null,
   "metadata": {},
   "outputs": [],
   "source": []
  }
 ],
 "metadata": {
  "kernelspec": {
   "display_name": "py38",
   "language": "python",
   "name": "python3"
  },
  "language_info": {
   "codemirror_mode": {
    "name": "ipython",
    "version": 3
   },
   "file_extension": ".py",
   "mimetype": "text/x-python",
   "name": "python",
   "nbconvert_exporter": "python",
   "pygments_lexer": "ipython3",
   "version": "3.8.0"
  },
  "orig_nbformat": 4
 },
 "nbformat": 4,
 "nbformat_minor": 2
}
