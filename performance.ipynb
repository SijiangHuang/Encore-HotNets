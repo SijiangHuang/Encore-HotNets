{
 "cells": [
  {
   "cell_type": "code",
   "execution_count": 2,
   "metadata": {},
   "outputs": [
    {
     "name": "stderr",
     "output_type": "stream",
     "text": [
      "/root/anaconda3/envs/nlp/lib/python3.10/site-packages/tqdm/auto.py:21: TqdmWarning: IProgress not found. Please update jupyter and ipywidgets. See https://ipywidgets.readthedocs.io/en/stable/user_install.html\n",
      "  from .autonotebook import tqdm as notebook_tqdm\n"
     ]
    }
   ],
   "source": [
    "import os\n",
    "import sys\n",
    "import pandas as pd\n",
    "import numpy as np\n",
    "import time\n",
    "from collections import defaultdict\n",
    "from tqdm import tqdm\n",
    "import torch\n",
    "from torch import nn\n",
    "from torch.utils.data import DataLoader\n",
    "from utils.dataset import *\n",
    "from size_gru import GRU, SizeToHidden\n",
    "from size_vae import SizeEncoder, SizeDecoder\n",
    "device = torch.device('cuda' if torch.cuda.is_available() else 'cpu')"
   ]
  },
  {
   "cell_type": "code",
   "execution_count": 3,
   "metadata": {},
   "outputs": [],
   "source": [
    "os.chdir(sys.path[0])\n",
    "pairs = 1000\n",
    "pairdata, freqpairs, n_size, n_interval = get_univ_data(pairs)\n",
    "sizedata = get_data(pairdata, freqpairs, 'size_index', n_size)\n",
    "size_cdf = pd.read_csv('data/univ/size_cdf.csv')"
   ]
  },
  {
   "cell_type": "code",
   "execution_count": 5,
   "metadata": {},
   "outputs": [],
   "source": [
    "decoder = torch.load('model/final/decoder.pth')\n",
    "gru = torch.load('model/final/gru.pth')\n",
    "s2h = torch.load('model/final/s2h.pth')\n",
    "vae_latent_dim = decoder.decoder[0][0].in_features\n",
    "gru_hidden_size = gru.gru.hidden_size"
   ]
  },
  {
   "cell_type": "code",
   "execution_count": 6,
   "metadata": {},
   "outputs": [],
   "source": [
    "def inputTensor(lines):\n",
    "    tensor = torch.zeros(lines.shape[1], lines.shape[0], n_size, dtype=torch.long)\n",
    "    for line in range(lines.shape[0]):\n",
    "        for i in range(lines.shape[1]):\n",
    "            size = lines[line][i]\n",
    "            tensor[i][line][size] = 1\n",
    "    return tensor\n",
    "\n",
    "def get_mean_interval(mean_size, load):\n",
    "    return 1/(100E9*load/8./mean_size) * 1E9\n",
    "\n",
    "def sample_size(cdf, index):\n",
    "    if index == 0:\n",
    "        return cdf.iloc[0]['size']\n",
    "    return cdf.iloc[index - 1]['size'] + np.random.rand() * (cdf.iloc[index]['size'] - cdf.iloc[index - 1]['size'])\n",
    "\n",
    "all_size = []\n",
    "for i in range(pairs):\n",
    "    all_size.extend(list(pairdata[freqpairs[i]]['size_index'].values))\n",
    "values, counts = np.unique(all_size, return_counts=True)\n",
    "all_size = np.zeros(n_size, dtype=np.float64)\n",
    "all_size[values] = counts\n",
    "all_size /= all_size.sum()\n",
    "\n",
    "def gen_real(seed, pair, load, n):\n",
    "    np.random.seed(seed)\n",
    "    size_index = pairdata[freqpairs[pair]]['size_index'].values\n",
    "    sizes = []\n",
    "    while len(sizes) < n:\n",
    "        sizes += list(size_index)\n",
    "    sizes = np.array(sizes)[:n]\n",
    "    sizes = np.array([sample_size(size_cdf, i) for i in sizes])\n",
    "    mean_size = int(get_mean_interval(np.mean(sizes), load))\n",
    "    intervals = np.random.exponential(mean_size, n).astype(int)\n",
    "    return sizes, intervals\n",
    "\n",
    "\n",
    "def gen_common(seed, pair, load, n):\n",
    "    np.random.seed(seed)\n",
    "    sizes = []\n",
    "    while len(sizes) < n:\n",
    "        sizes.append(np.random.choice(n_size, p=all_size))\n",
    "    sizes = np.array([sample_size(size_cdf, i) for i in sizes])\n",
    "    mean_size = int(get_mean_interval(np.mean(sizes), load))\n",
    "    intervals = np.random.exponential(mean_size, n).astype(int)\n",
    "    return sizes, intervals\n",
    "\n",
    "\n",
    "def sample_batch(size_data, seq_length, start_size, batch_size):\n",
    "    gru.eval() \n",
    "    s2h.eval()\n",
    "    softmax = nn.Softmax(dim=2).to(device)\n",
    "    with torch.no_grad():  # no need to track history in sampling\n",
    "        size_tensor = torch.tensor(size_data, dtype=torch.float).to(device)\n",
    "        hn = s2h(size_tensor)\n",
    "        size = start_size\n",
    "        output_seq = [size]\n",
    "        for _ in range(seq_length - 1):\n",
    "            input = inputTensor(np.array([size])).to(device)\n",
    "            input = input.float().permute(1,0,2)\n",
    "            output, hn = gru(input, hn)\n",
    "            output = softmax(output)\n",
    "            p_size = output.detach().cpu().numpy().squeeze()\n",
    "            size = [np.random.choice(n_size, p=p_size[i]) for i in range(batch_size)]\n",
    "            output_seq.append(size)\n",
    "        return output_seq\n",
    "\n",
    "\n",
    "def gen_encore(load, n):\n",
    "    batch_size = 1000\n",
    "    torch.manual_seed(0)\n",
    "    z = torch.randn((batch_size, vae_latent_dim)).to(device)\n",
    "    size = decoder(z)\n",
    "    size = size.squeeze().detach().to('cpu').numpy().astype(np.float64)\n",
    "    size[size < 1e-3] = 0\n",
    "    size /= size.sum(axis=1).reshape(-1, 1)\n",
    "    start_size = [np.random.choice(n_size, p=size[i]) for i in range(batch_size)]\n",
    "    size_index = []\n",
    "    while len(size_index) < n:\n",
    "        output_seq = sample_batch(size, 16, start_size, batch_size)\n",
    "        size_index += output_seq[1:]\n",
    "        start_size = output_seq[-1]\n",
    "    size_index = np.array(size_index).T\n",
    "    sizes, intervals = [], []\n",
    "    for i in tqdm(range(batch_size)):\n",
    "        sizes.append([int(sample_size(size_cdf, j)) for j in size_index[i]])\n",
    "        mean_size = int(get_mean_interval(np.mean(sizes[i]), load))\n",
    "        intervals.append(np.random.exponential(mean_size, n).astype(int))\n",
    "    return sizes, intervals"
   ]
  },
  {
   "cell_type": "code",
   "execution_count": 7,
   "metadata": {},
   "outputs": [],
   "source": [
    "class Flow:\n",
    "\tdef __init__(self, src, dst, size, t):\n",
    "\t\tself.src, self.dst, self.size, self.t = src, dst, size, t\n",
    "\tdef __str__(self):\n",
    "\t\treturn \"%d %d 3 100 %d %.9f\"%(self.src, self.dst, self.size, self.t)\n",
    "\n",
    "def gen_traces(dir, func, load, n):\n",
    "    for trace in tqdm(range(1000)):\n",
    "        np.random.seed(trace)\n",
    "        src = 1\n",
    "        dst = 0\n",
    "        sizes, intervals = func(trace, trace, load, n)\n",
    "        base_t = 2e9\n",
    "        f_list = []\n",
    "        t = base_t\n",
    "        for size, interval in zip(sizes, intervals):\n",
    "            t += interval\n",
    "            f_list.append(Flow(src, dst, size, t * 1e-9))\n",
    "            if t >= base_t + 1e9:\n",
    "                break\n",
    "                \n",
    "        flow_file = '{dir}/trace{trace}.txt'.format(trace=trace, dir=dir)\n",
    "        f = open(flow_file, 'w')\n",
    "        f_list.sort(key = lambda x: x.t)\n",
    "        f.write(str(len(f_list)) + '\\n')\n",
    "        for flow in f_list:\n",
    "            f.write(str(flow) + '\\n')\n",
    "        f.close()"
   ]
  },
  {
   "cell_type": "code",
   "execution_count": 8,
   "metadata": {},
   "outputs": [
    {
     "name": "stderr",
     "output_type": "stream",
     "text": [
      "  0%|          | 0/1000 [00:00<?, ?it/s]"
     ]
    },
    {
     "name": "stderr",
     "output_type": "stream",
     "text": [
      "100%|██████████| 1000/1000 [05:52<00:00,  2.83it/s]\n"
     ]
    }
   ],
   "source": [
    "trace_dir = './simulation/data/trace/ground_truth'\n",
    "if not os.path.exists(trace_dir):\n",
    "    os.makedirs(trace_dir)\n",
    "gen_traces(trace_dir, gen_real, 0.03, 5000)"
   ]
  },
  {
   "cell_type": "code",
   "execution_count": null,
   "metadata": {},
   "outputs": [],
   "source": []
  },
  {
   "cell_type": "code",
   "execution_count": 9,
   "metadata": {},
   "outputs": [
    {
     "name": "stderr",
     "output_type": "stream",
     "text": [
      "100%|██████████| 1000/1000 [06:26<00:00,  2.59it/s]\n"
     ]
    }
   ],
   "source": [
    "trace_dir = './simulation/data/trace/common_practice'\n",
    "if not os.path.exists(trace_dir):\n",
    "    os.makedirs(trace_dir)\n",
    "gen_traces(trace_dir, gen_common, 0.03, 5000)"
   ]
  },
  {
   "cell_type": "code",
   "execution_count": 10,
   "metadata": {},
   "outputs": [
    {
     "name": "stderr",
     "output_type": "stream",
     "text": [
      "100%|██████████| 1000/1000 [05:43<00:00,  2.91it/s]\n",
      "100%|██████████| 1000/1000 [00:10<00:00, 93.00it/s]\n"
     ]
    }
   ],
   "source": [
    "trace_dir = './simulation/data/trace/encore'\n",
    "if not os.path.exists(trace_dir):\n",
    "    os.makedirs(trace_dir)\n",
    "src = 1\n",
    "dst = 0\n",
    "load = 0.03\n",
    "n = 5000\n",
    "sizes, intervals = gen_encore(load, n)\n",
    "for trace in tqdm(range(1000)):\n",
    "    base_t = 2e9\n",
    "    f_list = []\n",
    "    t = base_t\n",
    "    for size, interval in  zip(sizes[trace], intervals[trace]):\n",
    "        t += interval\n",
    "        f_list.append(Flow(src, dst, size, t * 1e-9))\n",
    "        if t >= base_t + 1e9:\n",
    "            break\n",
    "            \n",
    "    flow_file = '{dir}/trace{trace}.txt'.format(trace=trace, dir=trace_dir)\n",
    "    f = open(flow_file, 'w')\n",
    "    f_list.sort(key = lambda x: x.t)\n",
    "    f.write(str(len(f_list)) + '\\n')\n",
    "    for flow in f_list:\n",
    "        f.write(str(flow) + '\\n')\n",
    "    f.close()"
   ]
  },
  {
   "cell_type": "code",
   "execution_count": 11,
   "metadata": {},
   "outputs": [
    {
     "ename": "FileNotFoundError",
     "evalue": "[Errno 2] No such file or directory: 'simulation/data/result/ground_truth/config0_trace0/fct.csv'",
     "output_type": "error",
     "traceback": [
      "\u001b[0;31m---------------------------------------------------------------------------\u001b[0m",
      "\u001b[0;31mFileNotFoundError\u001b[0m                         Traceback (most recent call last)",
      "Cell \u001b[0;32mIn[11], line 14\u001b[0m\n\u001b[1;32m     12\u001b[0m log_fcts \u001b[39m=\u001b[39m {}\n\u001b[1;32m     13\u001b[0m \u001b[39mfor\u001b[39;00m \u001b[39mdir\u001b[39m \u001b[39min\u001b[39;00m [\u001b[39m'\u001b[39m\u001b[39mground_truth\u001b[39m\u001b[39m'\u001b[39m, \u001b[39m'\u001b[39m\u001b[39mcommon_practice\u001b[39m\u001b[39m'\u001b[39m, \u001b[39m'\u001b[39m\u001b[39mencore\u001b[39m\u001b[39m'\u001b[39m]:\n\u001b[0;32m---> 14\u001b[0m     mean_fcts[\u001b[39mdir\u001b[39m] \u001b[39m=\u001b[39m get_mean_fcts(\u001b[39mdir\u001b[39;49m)\n\u001b[1;32m     15\u001b[0m     log_fcts[\u001b[39mdir\u001b[39m] \u001b[39m=\u001b[39m np\u001b[39m.\u001b[39mlog2(mean_fcts[\u001b[39mdir\u001b[39m])\n",
      "Cell \u001b[0;32mIn[11], line 4\u001b[0m, in \u001b[0;36mget_mean_fcts\u001b[0;34m(dir)\u001b[0m\n\u001b[1;32m      2\u001b[0m mean_fcts \u001b[39m=\u001b[39m []\n\u001b[1;32m      3\u001b[0m \u001b[39mfor\u001b[39;00m i \u001b[39min\u001b[39;00m \u001b[39mrange\u001b[39m(\u001b[39m1000\u001b[39m):\n\u001b[0;32m----> 4\u001b[0m     fct \u001b[39m=\u001b[39m pd\u001b[39m.\u001b[39;49mread_csv(\u001b[39m'\u001b[39;49m\u001b[39msimulation/data/result/\u001b[39;49m\u001b[39m{dir}\u001b[39;49;00m\u001b[39m/config0_trace\u001b[39;49m\u001b[39m{i}\u001b[39;49;00m\u001b[39m/fct.csv\u001b[39;49m\u001b[39m'\u001b[39;49m\u001b[39m.\u001b[39;49mformat(i\u001b[39m=\u001b[39;49mi, \u001b[39mdir\u001b[39;49m\u001b[39m=\u001b[39;49m\u001b[39mdir\u001b[39;49m))\u001b[39m.\u001b[39msort_values(\u001b[39m'\u001b[39m\u001b[39mfid\u001b[39m\u001b[39m'\u001b[39m)\n\u001b[1;32m      5\u001b[0m     slowdown \u001b[39m=\u001b[39m fct[\u001b[39m'\u001b[39m\u001b[39mfct\u001b[39m\u001b[39m'\u001b[39m] \u001b[39m/\u001b[39m fct[\u001b[39m'\u001b[39m\u001b[39mstandalone_fct\u001b[39m\u001b[39m'\u001b[39m]\n\u001b[1;32m      6\u001b[0m     slowdown[slowdown \u001b[39m<\u001b[39m \u001b[39m1\u001b[39m] \u001b[39m=\u001b[39m \u001b[39m1\u001b[39m\n",
      "File \u001b[0;32m~/anaconda3/envs/nlp/lib/python3.10/site-packages/pandas/util/_decorators.py:211\u001b[0m, in \u001b[0;36mdeprecate_kwarg.<locals>._deprecate_kwarg.<locals>.wrapper\u001b[0;34m(*args, **kwargs)\u001b[0m\n\u001b[1;32m    209\u001b[0m     \u001b[39melse\u001b[39;00m:\n\u001b[1;32m    210\u001b[0m         kwargs[new_arg_name] \u001b[39m=\u001b[39m new_arg_value\n\u001b[0;32m--> 211\u001b[0m \u001b[39mreturn\u001b[39;00m func(\u001b[39m*\u001b[39;49margs, \u001b[39m*\u001b[39;49m\u001b[39m*\u001b[39;49mkwargs)\n",
      "File \u001b[0;32m~/anaconda3/envs/nlp/lib/python3.10/site-packages/pandas/util/_decorators.py:331\u001b[0m, in \u001b[0;36mdeprecate_nonkeyword_arguments.<locals>.decorate.<locals>.wrapper\u001b[0;34m(*args, **kwargs)\u001b[0m\n\u001b[1;32m    325\u001b[0m \u001b[39mif\u001b[39;00m \u001b[39mlen\u001b[39m(args) \u001b[39m>\u001b[39m num_allow_args:\n\u001b[1;32m    326\u001b[0m     warnings\u001b[39m.\u001b[39mwarn(\n\u001b[1;32m    327\u001b[0m         msg\u001b[39m.\u001b[39mformat(arguments\u001b[39m=\u001b[39m_format_argument_list(allow_args)),\n\u001b[1;32m    328\u001b[0m         \u001b[39mFutureWarning\u001b[39;00m,\n\u001b[1;32m    329\u001b[0m         stacklevel\u001b[39m=\u001b[39mfind_stack_level(),\n\u001b[1;32m    330\u001b[0m     )\n\u001b[0;32m--> 331\u001b[0m \u001b[39mreturn\u001b[39;00m func(\u001b[39m*\u001b[39;49margs, \u001b[39m*\u001b[39;49m\u001b[39m*\u001b[39;49mkwargs)\n",
      "File \u001b[0;32m~/anaconda3/envs/nlp/lib/python3.10/site-packages/pandas/io/parsers/readers.py:950\u001b[0m, in \u001b[0;36mread_csv\u001b[0;34m(filepath_or_buffer, sep, delimiter, header, names, index_col, usecols, squeeze, prefix, mangle_dupe_cols, dtype, engine, converters, true_values, false_values, skipinitialspace, skiprows, skipfooter, nrows, na_values, keep_default_na, na_filter, verbose, skip_blank_lines, parse_dates, infer_datetime_format, keep_date_col, date_parser, dayfirst, cache_dates, iterator, chunksize, compression, thousands, decimal, lineterminator, quotechar, quoting, doublequote, escapechar, comment, encoding, encoding_errors, dialect, error_bad_lines, warn_bad_lines, on_bad_lines, delim_whitespace, low_memory, memory_map, float_precision, storage_options)\u001b[0m\n\u001b[1;32m    935\u001b[0m kwds_defaults \u001b[39m=\u001b[39m _refine_defaults_read(\n\u001b[1;32m    936\u001b[0m     dialect,\n\u001b[1;32m    937\u001b[0m     delimiter,\n\u001b[0;32m   (...)\u001b[0m\n\u001b[1;32m    946\u001b[0m     defaults\u001b[39m=\u001b[39m{\u001b[39m\"\u001b[39m\u001b[39mdelimiter\u001b[39m\u001b[39m\"\u001b[39m: \u001b[39m\"\u001b[39m\u001b[39m,\u001b[39m\u001b[39m\"\u001b[39m},\n\u001b[1;32m    947\u001b[0m )\n\u001b[1;32m    948\u001b[0m kwds\u001b[39m.\u001b[39mupdate(kwds_defaults)\n\u001b[0;32m--> 950\u001b[0m \u001b[39mreturn\u001b[39;00m _read(filepath_or_buffer, kwds)\n",
      "File \u001b[0;32m~/anaconda3/envs/nlp/lib/python3.10/site-packages/pandas/io/parsers/readers.py:605\u001b[0m, in \u001b[0;36m_read\u001b[0;34m(filepath_or_buffer, kwds)\u001b[0m\n\u001b[1;32m    602\u001b[0m _validate_names(kwds\u001b[39m.\u001b[39mget(\u001b[39m\"\u001b[39m\u001b[39mnames\u001b[39m\u001b[39m\"\u001b[39m, \u001b[39mNone\u001b[39;00m))\n\u001b[1;32m    604\u001b[0m \u001b[39m# Create the parser.\u001b[39;00m\n\u001b[0;32m--> 605\u001b[0m parser \u001b[39m=\u001b[39m TextFileReader(filepath_or_buffer, \u001b[39m*\u001b[39;49m\u001b[39m*\u001b[39;49mkwds)\n\u001b[1;32m    607\u001b[0m \u001b[39mif\u001b[39;00m chunksize \u001b[39mor\u001b[39;00m iterator:\n\u001b[1;32m    608\u001b[0m     \u001b[39mreturn\u001b[39;00m parser\n",
      "File \u001b[0;32m~/anaconda3/envs/nlp/lib/python3.10/site-packages/pandas/io/parsers/readers.py:1442\u001b[0m, in \u001b[0;36mTextFileReader.__init__\u001b[0;34m(self, f, engine, **kwds)\u001b[0m\n\u001b[1;32m   1439\u001b[0m     \u001b[39mself\u001b[39m\u001b[39m.\u001b[39moptions[\u001b[39m\"\u001b[39m\u001b[39mhas_index_names\u001b[39m\u001b[39m\"\u001b[39m] \u001b[39m=\u001b[39m kwds[\u001b[39m\"\u001b[39m\u001b[39mhas_index_names\u001b[39m\u001b[39m\"\u001b[39m]\n\u001b[1;32m   1441\u001b[0m \u001b[39mself\u001b[39m\u001b[39m.\u001b[39mhandles: IOHandles \u001b[39m|\u001b[39m \u001b[39mNone\u001b[39;00m \u001b[39m=\u001b[39m \u001b[39mNone\u001b[39;00m\n\u001b[0;32m-> 1442\u001b[0m \u001b[39mself\u001b[39m\u001b[39m.\u001b[39m_engine \u001b[39m=\u001b[39m \u001b[39mself\u001b[39;49m\u001b[39m.\u001b[39;49m_make_engine(f, \u001b[39mself\u001b[39;49m\u001b[39m.\u001b[39;49mengine)\n",
      "File \u001b[0;32m~/anaconda3/envs/nlp/lib/python3.10/site-packages/pandas/io/parsers/readers.py:1735\u001b[0m, in \u001b[0;36mTextFileReader._make_engine\u001b[0;34m(self, f, engine)\u001b[0m\n\u001b[1;32m   1733\u001b[0m     \u001b[39mif\u001b[39;00m \u001b[39m\"\u001b[39m\u001b[39mb\u001b[39m\u001b[39m\"\u001b[39m \u001b[39mnot\u001b[39;00m \u001b[39min\u001b[39;00m mode:\n\u001b[1;32m   1734\u001b[0m         mode \u001b[39m+\u001b[39m\u001b[39m=\u001b[39m \u001b[39m\"\u001b[39m\u001b[39mb\u001b[39m\u001b[39m\"\u001b[39m\n\u001b[0;32m-> 1735\u001b[0m \u001b[39mself\u001b[39m\u001b[39m.\u001b[39mhandles \u001b[39m=\u001b[39m get_handle(\n\u001b[1;32m   1736\u001b[0m     f,\n\u001b[1;32m   1737\u001b[0m     mode,\n\u001b[1;32m   1738\u001b[0m     encoding\u001b[39m=\u001b[39;49m\u001b[39mself\u001b[39;49m\u001b[39m.\u001b[39;49moptions\u001b[39m.\u001b[39;49mget(\u001b[39m\"\u001b[39;49m\u001b[39mencoding\u001b[39;49m\u001b[39m\"\u001b[39;49m, \u001b[39mNone\u001b[39;49;00m),\n\u001b[1;32m   1739\u001b[0m     compression\u001b[39m=\u001b[39;49m\u001b[39mself\u001b[39;49m\u001b[39m.\u001b[39;49moptions\u001b[39m.\u001b[39;49mget(\u001b[39m\"\u001b[39;49m\u001b[39mcompression\u001b[39;49m\u001b[39m\"\u001b[39;49m, \u001b[39mNone\u001b[39;49;00m),\n\u001b[1;32m   1740\u001b[0m     memory_map\u001b[39m=\u001b[39;49m\u001b[39mself\u001b[39;49m\u001b[39m.\u001b[39;49moptions\u001b[39m.\u001b[39;49mget(\u001b[39m\"\u001b[39;49m\u001b[39mmemory_map\u001b[39;49m\u001b[39m\"\u001b[39;49m, \u001b[39mFalse\u001b[39;49;00m),\n\u001b[1;32m   1741\u001b[0m     is_text\u001b[39m=\u001b[39;49mis_text,\n\u001b[1;32m   1742\u001b[0m     errors\u001b[39m=\u001b[39;49m\u001b[39mself\u001b[39;49m\u001b[39m.\u001b[39;49moptions\u001b[39m.\u001b[39;49mget(\u001b[39m\"\u001b[39;49m\u001b[39mencoding_errors\u001b[39;49m\u001b[39m\"\u001b[39;49m, \u001b[39m\"\u001b[39;49m\u001b[39mstrict\u001b[39;49m\u001b[39m\"\u001b[39;49m),\n\u001b[1;32m   1743\u001b[0m     storage_options\u001b[39m=\u001b[39;49m\u001b[39mself\u001b[39;49m\u001b[39m.\u001b[39;49moptions\u001b[39m.\u001b[39;49mget(\u001b[39m\"\u001b[39;49m\u001b[39mstorage_options\u001b[39;49m\u001b[39m\"\u001b[39;49m, \u001b[39mNone\u001b[39;49;00m),\n\u001b[1;32m   1744\u001b[0m )\n\u001b[1;32m   1745\u001b[0m \u001b[39massert\u001b[39;00m \u001b[39mself\u001b[39m\u001b[39m.\u001b[39mhandles \u001b[39mis\u001b[39;00m \u001b[39mnot\u001b[39;00m \u001b[39mNone\u001b[39;00m\n\u001b[1;32m   1746\u001b[0m f \u001b[39m=\u001b[39m \u001b[39mself\u001b[39m\u001b[39m.\u001b[39mhandles\u001b[39m.\u001b[39mhandle\n",
      "File \u001b[0;32m~/anaconda3/envs/nlp/lib/python3.10/site-packages/pandas/io/common.py:856\u001b[0m, in \u001b[0;36mget_handle\u001b[0;34m(path_or_buf, mode, encoding, compression, memory_map, is_text, errors, storage_options)\u001b[0m\n\u001b[1;32m    851\u001b[0m \u001b[39melif\u001b[39;00m \u001b[39misinstance\u001b[39m(handle, \u001b[39mstr\u001b[39m):\n\u001b[1;32m    852\u001b[0m     \u001b[39m# Check whether the filename is to be opened in binary mode.\u001b[39;00m\n\u001b[1;32m    853\u001b[0m     \u001b[39m# Binary mode does not support 'encoding' and 'newline'.\u001b[39;00m\n\u001b[1;32m    854\u001b[0m     \u001b[39mif\u001b[39;00m ioargs\u001b[39m.\u001b[39mencoding \u001b[39mand\u001b[39;00m \u001b[39m\"\u001b[39m\u001b[39mb\u001b[39m\u001b[39m\"\u001b[39m \u001b[39mnot\u001b[39;00m \u001b[39min\u001b[39;00m ioargs\u001b[39m.\u001b[39mmode:\n\u001b[1;32m    855\u001b[0m         \u001b[39m# Encoding\u001b[39;00m\n\u001b[0;32m--> 856\u001b[0m         handle \u001b[39m=\u001b[39m \u001b[39mopen\u001b[39;49m(\n\u001b[1;32m    857\u001b[0m             handle,\n\u001b[1;32m    858\u001b[0m             ioargs\u001b[39m.\u001b[39;49mmode,\n\u001b[1;32m    859\u001b[0m             encoding\u001b[39m=\u001b[39;49mioargs\u001b[39m.\u001b[39;49mencoding,\n\u001b[1;32m    860\u001b[0m             errors\u001b[39m=\u001b[39;49merrors,\n\u001b[1;32m    861\u001b[0m             newline\u001b[39m=\u001b[39;49m\u001b[39m\"\u001b[39;49m\u001b[39m\"\u001b[39;49m,\n\u001b[1;32m    862\u001b[0m         )\n\u001b[1;32m    863\u001b[0m     \u001b[39melse\u001b[39;00m:\n\u001b[1;32m    864\u001b[0m         \u001b[39m# Binary mode\u001b[39;00m\n\u001b[1;32m    865\u001b[0m         handle \u001b[39m=\u001b[39m \u001b[39mopen\u001b[39m(handle, ioargs\u001b[39m.\u001b[39mmode)\n",
      "\u001b[0;31mFileNotFoundError\u001b[0m: [Errno 2] No such file or directory: 'simulation/data/result/ground_truth/config0_trace0/fct.csv'"
     ]
    }
   ],
   "source": [
    "def get_mean_fcts(dir):\n",
    "    mean_fcts = []\n",
    "    for i in range(1000):\n",
    "        fct = pd.read_csv('simulation/data/result/{dir}/config0_trace{i}/fct.csv'.format(i=i, dir=dir)).sort_values('fid')\n",
    "        slowdown = fct['fct'] / fct['standalone_fct']\n",
    "        slowdown[slowdown < 1] = 1\n",
    "        # print(i, np.mean(slowdown), np.median(slowdown), np.percentile(slowdown, 90), np.percentile(slowdown, 95))\n",
    "        mean_fcts.append(np.mean(slowdown))\n",
    "    return mean_fcts\n",
    "\n",
    "mean_fcts = {}\n",
    "log_fcts = {}\n",
    "for dir in ['ground_truth', 'common_practice', 'encore']:\n",
    "    mean_fcts[dir] = get_mean_fcts(dir)\n",
    "    log_fcts[dir] = np.log2(mean_fcts[dir])"
   ]
  },
  {
   "cell_type": "code",
   "execution_count": 12,
   "metadata": {},
   "outputs": [
    {
     "ename": "KeyError",
     "evalue": "'ground_truth'",
     "output_type": "error",
     "traceback": [
      "\u001b[0;31m---------------------------------------------------------------------------\u001b[0m",
      "\u001b[0;31mKeyError\u001b[0m                                  Traceback (most recent call last)",
      "Cell \u001b[0;32mIn[12], line 2\u001b[0m\n\u001b[1;32m      1\u001b[0m \u001b[39mfor\u001b[39;00m \u001b[39mdir\u001b[39m \u001b[39min\u001b[39;00m [\u001b[39m'\u001b[39m\u001b[39mground_truth\u001b[39m\u001b[39m'\u001b[39m, \u001b[39m'\u001b[39m\u001b[39mcommon_practice\u001b[39m\u001b[39m'\u001b[39m, \u001b[39m'\u001b[39m\u001b[39mencore\u001b[39m\u001b[39m'\u001b[39m]:\n\u001b[0;32m----> 2\u001b[0m     \u001b[39mprint\u001b[39m(np\u001b[39m.\u001b[39mmin(log_fcts[\u001b[39mdir\u001b[39;49m]), np\u001b[39m.\u001b[39mmax(log_fcts[\u001b[39mdir\u001b[39m]))\n",
      "\u001b[0;31mKeyError\u001b[0m: 'ground_truth'"
     ]
    }
   ],
   "source": [
    "for dir in ['ground_truth', 'common_practice', 'encore']:\n",
    "    print(np.min(log_fcts[dir]), np.max(log_fcts[dir]))"
   ]
  },
  {
   "cell_type": "code",
   "execution_count": 13,
   "metadata": {},
   "outputs": [
    {
     "ename": "KeyError",
     "evalue": "'ground_truth'",
     "output_type": "error",
     "traceback": [
      "\u001b[0;31m---------------------------------------------------------------------------\u001b[0m",
      "\u001b[0;31mKeyError\u001b[0m                                  Traceback (most recent call last)",
      "Cell \u001b[0;32mIn[13], line 17\u001b[0m\n\u001b[1;32m     14\u001b[0m ax\u001b[39m.\u001b[39mspines[\u001b[39m'\u001b[39m\u001b[39mright\u001b[39m\u001b[39m'\u001b[39m]\u001b[39m.\u001b[39mset_visible(\u001b[39mFalse\u001b[39;00m)\n\u001b[1;32m     16\u001b[0m \u001b[39mfor\u001b[39;00m i, \u001b[39mdir\u001b[39m \u001b[39min\u001b[39;00m \u001b[39menumerate\u001b[39m([\u001b[39m'\u001b[39m\u001b[39mground_truth\u001b[39m\u001b[39m'\u001b[39m, \u001b[39m'\u001b[39m\u001b[39mcommon_practice\u001b[39m\u001b[39m'\u001b[39m, \u001b[39m'\u001b[39m\u001b[39mencore\u001b[39m\u001b[39m'\u001b[39m]):\n\u001b[0;32m---> 17\u001b[0m     counts, bins \u001b[39m=\u001b[39m np\u001b[39m.\u001b[39mhistogram(log_fcts[\u001b[39mdir\u001b[39;49m], bins\u001b[39m=\u001b[39mnp\u001b[39m.\u001b[39marange(np\u001b[39m.\u001b[39mmin(log_fcts[\u001b[39mdir\u001b[39m]), np\u001b[39m.\u001b[39mmax(log_fcts[\u001b[39mdir\u001b[39m]) \u001b[39m+\u001b[39m \u001b[39m0.1\u001b[39m, \u001b[39m0.1\u001b[39m))\n\u001b[1;32m     18\u001b[0m     counts \u001b[39m=\u001b[39m np\u001b[39m.\u001b[39mcumsum(counts) \u001b[39m/\u001b[39m counts\u001b[39m.\u001b[39msum()\n\u001b[1;32m     19\u001b[0m     plt\u001b[39m.\u001b[39mplot(bins[:\u001b[39m-\u001b[39m\u001b[39m1\u001b[39m], counts, label\u001b[39m=\u001b[39mlabels[i], color\u001b[39m=\u001b[39mcMap[\u001b[39mdir\u001b[39m], linewidth\u001b[39m=\u001b[39m\u001b[39m2\u001b[39m)\n",
      "\u001b[0;31mKeyError\u001b[0m: 'ground_truth'"
     ]
    },
    {
     "data": {
      "image/png": "[encoded data removed]",
      "text/plain": [
       "<Figure size 600x300 with 1 Axes>"
      ]
     },
     "metadata": {},
     "output_type": "display_data"
    }
   ],
   "source": [
    "import matplotlib.pyplot as plt\n",
    "\n",
    "labels = ['Ground Truth', 'Common Practice', 'Encore']\n",
    "cMap = {\n",
    "    'ground_truth': 'SeaGreen',\n",
    "    'common_practice': 'IndianRed',\n",
    "    'encore': 'CornFlowerBlue',\n",
    "}\n",
    "\n",
    "plt.figure(figsize=(6, 3))\n",
    "plt.subplots_adjust(left=0.15, top=0.98, bottom=0.25, right=0.98)\n",
    "ax = plt.subplot(111)\n",
    "ax.spines['top'].set_visible(False)\n",
    "ax.spines['right'].set_visible(False)\n",
    "\n",
    "for i, dir in enumerate(['ground_truth', 'common_practice', 'encore']):\n",
    "    counts, bins = np.histogram(log_fcts[dir], bins=np.arange(np.min(log_fcts[dir]), np.max(log_fcts[dir]) + 0.1, 0.1))\n",
    "    counts = np.cumsum(counts) / counts.sum()\n",
    "    plt.plot(bins[:-1], counts, label=labels[i], color=cMap[dir], linewidth=2)\n",
    "\n",
    "plt.legend(fontsize=18, frameon=False, loc=(0.4, -0.02))\n",
    "plt.xlabel('log2(slowdown)', fontsize=20)\n",
    "plt.ylabel('CDF', fontsize=20)\n",
    "plt.xticks(np.arange(7), fontsize=20)\n",
    "plt.yticks(fontsize=20)\n",
    "plt.grid(linestyle='-.')\n",
    "\n",
    "plt.savefig('figure/univ-performance.pdf', dpi=400)"
   ]
  },
  {
   "cell_type": "code",
   "execution_count": 14,
   "metadata": {},
   "outputs": [
    {
     "ename": "KeyError",
     "evalue": "'ground_truth'",
     "output_type": "error",
     "traceback": [
      "\u001b[0;31m---------------------------------------------------------------------------\u001b[0m",
      "\u001b[0;31mKeyError\u001b[0m                                  Traceback (most recent call last)",
      "Cell \u001b[0;32mIn[14], line 3\u001b[0m\n\u001b[1;32m      1\u001b[0m cdfs \u001b[39m=\u001b[39m {}\n\u001b[1;32m      2\u001b[0m \u001b[39mfor\u001b[39;00m i, \u001b[39mdir\u001b[39m \u001b[39min\u001b[39;00m \u001b[39menumerate\u001b[39m([\u001b[39m'\u001b[39m\u001b[39mground_truth\u001b[39m\u001b[39m'\u001b[39m, \u001b[39m'\u001b[39m\u001b[39mcommon_practice\u001b[39m\u001b[39m'\u001b[39m, \u001b[39m'\u001b[39m\u001b[39mencore\u001b[39m\u001b[39m'\u001b[39m]):\n\u001b[0;32m----> 3\u001b[0m     counts, bins \u001b[39m=\u001b[39m np\u001b[39m.\u001b[39mhistogram(mean_fcts[\u001b[39mdir\u001b[39;49m], bins\u001b[39m=\u001b[39mnp\u001b[39m.\u001b[39marange(\u001b[39m0\u001b[39m, \u001b[39m40\u001b[39m, \u001b[39m0.1\u001b[39m))\n\u001b[1;32m      4\u001b[0m     cdfs[\u001b[39mdir\u001b[39m] \u001b[39m=\u001b[39m np\u001b[39m.\u001b[39mcumsum(counts) \u001b[39m/\u001b[39m counts\u001b[39m.\u001b[39msum()\n\u001b[1;32m      6\u001b[0m cramer_dis \u001b[39m=\u001b[39m {}\n",
      "\u001b[0;31mKeyError\u001b[0m: 'ground_truth'"
     ]
    }
   ],
   "source": [
    "cdfs = {}\n",
    "for i, dir in enumerate(['ground_truth', 'common_practice', 'encore']):\n",
    "    counts, bins = np.histogram(mean_fcts[dir], bins=np.arange(0, 40, 0.1))\n",
    "    cdfs[dir] = np.cumsum(counts) / counts.sum()\n",
    "\n",
    "cramer_dis = {}\n",
    "cramer_dis['common_practice'] = np.sum(np.abs(cdfs['common_practice'] - cdfs['ground_truth']))\n",
    "cramer_dis['encore'] = np.sum(np.abs(cdfs['encore'] - cdfs['ground_truth']))\n",
    "cramer_dis['common_practice'] / cramer_dis['encore']"
   ]
  },
  {
   "cell_type": "code",
   "execution_count": null,
   "metadata": {},
   "outputs": [],
   "source": []
  }
 ],
 "metadata": {
  "kernelspec": {
   "display_name": "py38",
   "language": "python",
   "name": "python3"
  },
  "language_info": {
   "codemirror_mode": {
    "name": "ipython",
    "version": 3
   },
   "file_extension": ".py",
   "mimetype": "text/x-python",
   "name": "python",
   "nbconvert_exporter": "python",
   "pygments_lexer": "ipython3",
   "version": "3.10.11"
  },
  "orig_nbformat": 4
 },
 "nbformat": 4,
 "nbformat_minor": 2
}
