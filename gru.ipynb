{
 "cells": [
  {
   "cell_type": "code",
   "execution_count": 1,
   "metadata": {},
   "outputs": [],
   "source": [
    "import os\n",
    "import sys\n",
    "import pandas as pd\n",
    "import numpy as np\n",
    "import argparse\n",
    "import datetime\n",
    "import time\n",
    "from sklearn import metrics\n",
    "from collections import defaultdict\n",
    "import torch\n",
    "import torch.nn as nn\n",
    "from torch import nn, Tensor\n",
    "from typing import List\n",
    "from torch.nn import functional as F\n",
    "from torch.utils.data import DataLoader\n",
    "from torchsummary import summary\n",
    "from utils.dataset import *\n",
    "device = torch.device('cuda' if torch.cuda.is_available() else 'cpu')"
   ]
  },
  {
   "cell_type": "code",
   "execution_count": 2,
   "metadata": {},
   "outputs": [],
   "source": [
    "# read data\n",
    "pairs = 1000\n",
    "pairdata, freqpairs, n_size, n_interval = get_univ_data(pairs)\n",
    "sizedata = get_data(pairdata, freqpairs, 'size_index', n_size)"
   ]
  },
  {
   "cell_type": "code",
   "execution_count": 3,
   "metadata": {},
   "outputs": [],
   "source": [
    "seq_set = defaultdict(list)\n",
    "target_set = defaultdict(list)\n",
    "size_set = {}\n",
    "seq_len = 16\n",
    "\n",
    "for pair in range(pairs):\n",
    "    size_index = pairdata[freqpairs[pair]].size_index.values\n",
    "    target_index = np.concatenate((size_index[1:], size_index[0:1]))\n",
    "    for i in range(len(size_index) - seq_len):\n",
    "        seq_set[pair].append(size_index[i:i+seq_len])\n",
    "        target_set[pair].append(target_index[i:i+seq_len])\n",
    "        size_set[pair] = sizedata[pair]\n",
    "    seq_set[pair] = np.array(seq_set[pair])\n",
    "    target_set[pair] = np.array(target_set[pair])"
   ]
  },
  {
   "cell_type": "code",
   "execution_count": 4,
   "metadata": {},
   "outputs": [],
   "source": [
    "def sample_dataset(seed):\n",
    "    np.random.seed(seed)\n",
    "    dataset = []\n",
    "    for pair in range(pairs):\n",
    "        ran_index = np.random.randint(len(seq_set[pair]))\n",
    "        dataset.append([seq_set[pair][ran_index], size_set[pair], target_set[pair][ran_index]])\n",
    "    return dataset\n",
    "\n",
    "def inputTensor(lines):\n",
    "    tensor = torch.zeros(lines.shape[1], lines.shape[0], n_size, dtype=torch.long)\n",
    "    for line in range(lines.shape[0]):\n",
    "        for i in range(lines.shape[1]):\n",
    "            size = lines[line][i]\n",
    "            tensor[i][line][size] = 1\n",
    "    return tensor\n",
    "\n",
    "dataset = sample_dataset(0)\n",
    "dataloader = DataLoader(dataset[:32], batch_size=32, shuffle=False)"
   ]
  },
  {
   "cell_type": "code",
   "execution_count": 5,
   "metadata": {},
   "outputs": [],
   "source": [
    "class SizeToHidden(nn.Module):\n",
    "    def __init__(self, input_size, hidden_dims, hidden_size, n_layer):\n",
    "        super(SizeToHidden, self).__init__()\n",
    "        self.lins = nn.ModuleList()\n",
    "        self.n_layer = n_layer\n",
    "        self.hidden_size = hidden_size\n",
    "        in_dim = input_size \n",
    "        for h_dim in hidden_dims:\n",
    "            self.lins.append(\n",
    "                nn.Sequential(\n",
    "                    nn.Linear(in_dim, out_features=h_dim),\n",
    "                    nn.ReLU())\n",
    "            )\n",
    "            in_dim = h_dim\n",
    "        self.output = nn.Linear(in_dim, out_features=hidden_size * n_layer)\n",
    "\n",
    "    def forward(self, x: Tensor) -> List[Tensor]:\n",
    "        for lin in self.lins:\n",
    "            x = lin(x)\n",
    "        x = self.output(x)\n",
    "        x = x.view(-1, self.n_layer, self.hidden_size)\n",
    "        x = x.permute(1, 0, 2).contiguous()\n",
    "        return x"
   ]
  },
  {
   "cell_type": "code",
   "execution_count": 6,
   "metadata": {},
   "outputs": [],
   "source": [
    "class GRU(nn.Module):\n",
    "    def __init__(self, input_size, hidden_size, n_layer):\n",
    "        super(GRU, self).__init__()\n",
    "        self.hidden_size = hidden_size\n",
    "        self.gru = nn.GRU(input_size, hidden_size, n_layer)\n",
    "        self.h2o = nn.Linear(hidden_size, n_size)\n",
    "        self.softmax = nn.LogSoftmax(dim=2)\n",
    "    \n",
    "    def forward(self, x, hidden):\n",
    "        out, hidden = self.gru(x, hidden)\n",
    "        out = self.h2o(out)\n",
    "        out = self.softmax(out)\n",
    "        return out, hidden"
   ]
  },
  {
   "cell_type": "code",
   "execution_count": 7,
   "metadata": {},
   "outputs": [],
   "source": [
    "hidden_size = 256\n",
    "gru = GRU(n_size, hidden_size, 1).to(device)\n",
    "s2h = SizeToHidden(n_size, [64, 128], hidden_size, 1).to(device)"
   ]
  },
  {
   "cell_type": "code",
   "execution_count": 16,
   "metadata": {},
   "outputs": [],
   "source": [
    "# hidden_size = 128\n",
    "# gru = GRU(n_size, hidden_size, 1).to(device)\n",
    "# s2h = SizeToHidden(n_size, [64, 128], hidden_size, 1).to(device)"
   ]
  },
  {
   "cell_type": "code",
   "execution_count": 17,
   "metadata": {},
   "outputs": [
    {
     "data": {
      "text/plain": [
       "(228894, 43328, 272222)"
      ]
     },
     "execution_count": 17,
     "metadata": {},
     "output_type": "execute_result"
    }
   ],
   "source": [
    "# get total parameters and trainable parameters of gru and s2h\n",
    "def get_params(model):\n",
    "    total_params = sum(p.numel() for p in model.parameters())\n",
    "    trainable_params = sum(p.numel() for p in model.parameters() if p.requires_grad)\n",
    "    return total_params, trainable_params\n",
    "get_params(gru)[0], get_params(s2h)[0], get_params(gru)[0] + get_params(s2h)[0]"
   ]
  },
  {
   "cell_type": "code",
   "execution_count": 18,
   "metadata": {},
   "outputs": [
    {
     "data": {
      "text/plain": [
       "287915"
      ]
     },
     "execution_count": 18,
     "metadata": {},
     "output_type": "execute_result"
    }
   ],
   "source": [
    "sum_flow = 0\n",
    "for i in range(pairs):\n",
    "    sum_flow += len(pairdata[freqpairs[i]])\n",
    "sum_flow"
   ]
  },
  {
   "cell_type": "code",
   "execution_count": 19,
   "metadata": {},
   "outputs": [
    {
     "data": {
      "text/plain": [
       "0.3024688888888889"
      ]
     },
     "execution_count": 19,
     "metadata": {},
     "output_type": "execute_result"
    }
   ],
   "source": [
    "(get_params(gru)[0] + get_params(s2h)[0]) / 900000"
   ]
  },
  {
   "cell_type": "code",
   "execution_count": 20,
   "metadata": {},
   "outputs": [],
   "source": [
    "# date = 'final'\n",
    "# gru = torch.load('model/{date}/gru.pth'.format(date=date))\n",
    "# s2h = torch.load('model/{date}/s2h.pth'.format(date=date))"
   ]
  },
  {
   "cell_type": "code",
   "execution_count": 11,
   "metadata": {},
   "outputs": [],
   "source": [
    "date = 'univ-gru-2023-6-16-23'\n",
    "gru = torch.load('model/{date}/gru-82000.pth'.format(date=date))\n",
    "s2h = torch.load('model/{date}/s2h-82000.pth'.format(date=date))"
   ]
  },
  {
   "cell_type": "code",
   "execution_count": 12,
   "metadata": {},
   "outputs": [],
   "source": [
    "def train(dataloader, optimizer):\n",
    "    gru.train()\n",
    "    s2h.train()\n",
    "    sum_loss = 0\n",
    "    for seq_tensor, size_tensor, target_tensor in dataloader:\n",
    "        seq_tensor = inputTensor(seq_tensor).float().to(device)\n",
    "        size_tensor = size_tensor.float().to(device)\n",
    "        target_tensor = target_tensor.T.long().to(device)\n",
    "        optimizer.zero_grad()\n",
    "        output, hn = gru(seq_tensor, s2h(size_tensor))\n",
    "        loss = 0\n",
    "        for i in range(seq_len):\n",
    "            loss += nn.NLLLoss()(output[i], target_tensor[i])\n",
    "        loss.backward()\n",
    "        optimizer.step()\n",
    "        sum_loss += loss.item() / seq_tensor.shape[0] * seq_tensor.shape[1]\n",
    "    return sum_loss / len(dataloader.dataset)"
   ]
  },
  {
   "cell_type": "code",
   "execution_count": 10,
   "metadata": {},
   "outputs": [
    {
     "ename": "KeyboardInterrupt",
     "evalue": "",
     "output_type": "error",
     "traceback": [
      "\u001b[0;31m---------------------------------------------------------------------------\u001b[0m",
      "\u001b[0;31mKeyboardInterrupt\u001b[0m                         Traceback (most recent call last)",
      "Cell \u001b[0;32mIn[10], line 10\u001b[0m\n\u001b[1;32m      8\u001b[0m dataset \u001b[39m=\u001b[39m sample_dataset(i)\n\u001b[1;32m      9\u001b[0m dataloader \u001b[39m=\u001b[39m DataLoader(dataset[:], batch_size\u001b[39m=\u001b[39m\u001b[39m32\u001b[39m, shuffle\u001b[39m=\u001b[39m\u001b[39mTrue\u001b[39;00m)\n\u001b[0;32m---> 10\u001b[0m loss \u001b[39m=\u001b[39m train(dataloader, optimizer)\n\u001b[1;32m     11\u001b[0m avg_loss \u001b[39m+\u001b[39m\u001b[39m=\u001b[39m loss\n\u001b[1;32m     12\u001b[0m \u001b[39mif\u001b[39;00m i \u001b[39mand\u001b[39;00m i \u001b[39m%\u001b[39m plot_every \u001b[39m==\u001b[39m \u001b[39m0\u001b[39m:\n",
      "Cell \u001b[0;32mIn[9], line 13\u001b[0m, in \u001b[0;36mtrain\u001b[0;34m(dataloader, optimizer)\u001b[0m\n\u001b[1;32m     11\u001b[0m loss \u001b[39m=\u001b[39m \u001b[39m0\u001b[39m\n\u001b[1;32m     12\u001b[0m \u001b[39mfor\u001b[39;00m i \u001b[39min\u001b[39;00m \u001b[39mrange\u001b[39m(seq_len):\n\u001b[0;32m---> 13\u001b[0m     loss \u001b[39m+\u001b[39m\u001b[39m=\u001b[39m nn\u001b[39m.\u001b[39;49mNLLLoss()(output[i], target_tensor[i])\n\u001b[1;32m     14\u001b[0m loss\u001b[39m.\u001b[39mbackward()\n\u001b[1;32m     15\u001b[0m optimizer\u001b[39m.\u001b[39mstep()\n",
      "\u001b[0;31mKeyboardInterrupt\u001b[0m: "
     ]
    }
   ],
   "source": [
    "lr = 5e-4\n",
    "optimizer = torch.optim.Adam([{'params': gru.parameters()}, {'params': s2h.parameters()}], lr=lr)\n",
    "\n",
    "s_time = time.time()\n",
    "plot_every = 1000\n",
    "avg_loss = 0\n",
    "for i in range(1000001):\n",
    "    dataset = sample_dataset(i)\n",
    "    dataloader = DataLoader(dataset[:], batch_size=32, shuffle=True)\n",
    "    loss = train(dataloader, optimizer)\n",
    "    avg_loss += loss\n",
    "    if i and i % plot_every == 0:\n",
    "        print(i, loss, avg_loss / plot_every, time.time() - s_time)\n",
    "        if avg_loss / plot_every < 0.18:\n",
    "            print(i, avg_loss / plot_every)\n",
    "            break\n",
    "        avg_loss = 0"
   ]
  },
  {
   "cell_type": "code",
   "execution_count": 13,
   "metadata": {},
   "outputs": [],
   "source": [
    "softmax = nn.Softmax(dim=2).to(device)\n",
    "def sample(size_data, seq_length, start_size=8):\n",
    "    gru.eval()\n",
    "    s2h.eval()\n",
    "    with torch.no_grad():  # no need to track history in sampling\n",
    "        size_tensor = torch.tensor(size_data, dtype=torch.float).to(device)\n",
    "        hn = s2h(size_tensor)\n",
    "        output_seq = [start_size]\n",
    "        size = start_size\n",
    "        for _ in range(seq_length - 1):\n",
    "            input = inputTensor(np.array([[size]])).to(device)\n",
    "            input = input.float()\n",
    "            output, hn = gru(input, hn)\n",
    "            output = softmax(output)\n",
    "            p_size = output.detach().cpu().numpy().squeeze()\n",
    "            size = np.random.choice(n_size, p=p_size)\n",
    "            output_seq.append(size)\n",
    "        return output_seq\n",
    "\n",
    "def is_subarray(arr1, arr2):\n",
    "    arr1 = np.array(arr1)\n",
    "    arr2 = np.array(arr2)\n",
    "    for i in range(len(arr1) - len(arr2) + 1):\n",
    "        if np.array_equal(arr1[i:i+len(arr2)], arr2):\n",
    "            return True\n",
    "    return False"
   ]
  },
  {
   "cell_type": "code",
   "execution_count": 14,
   "metadata": {},
   "outputs": [],
   "source": [
    "# pair = 0\n",
    "# start_size = 8\n",
    "# for i in range(100):\n",
    "#     size_index = np.concatenate((pairdata[freqpairs[pair]].size_index.values, pairdata[freqpairs[pair]].size_index.values[0:1]))\n",
    "#     a = sample(sizedata[pair], 16, start_size)\n",
    "#     print(a, is_subarray(size_index, a))"
   ]
  },
  {
   "cell_type": "code",
   "execution_count": 15,
   "metadata": {},
   "outputs": [],
   "source": [
    "from scipy.stats import entropy\n",
    "def JSD(p, q):\n",
    "    p = list(p)\n",
    "    q = list(q)\n",
    "    pq_max_len = max(len(p), len(q))\n",
    "    p += [0.0] * (pq_max_len - len(p))\n",
    "    q += [0.0] * (pq_max_len - len(q))\n",
    "    assert (len(p) == len(q))\n",
    "    m = np.sum([p, q], axis=0) / 2\n",
    "    return 0.5 * entropy(p, m) + 0.5 * entropy(q, m)\n",
    "\n",
    "s2s_pair, size_trans = get_trans(pairdata, freqpairs, 'size_index', n_size)"
   ]
  },
  {
   "cell_type": "code",
   "execution_count": 16,
   "metadata": {},
   "outputs": [
    {
     "name": "stderr",
     "output_type": "stream",
     "text": [
      "  0%|          | 2/1000 [00:00<04:13,  3.94it/s]"
     ]
    },
    {
     "name": "stdout",
     "output_type": "stream",
     "text": [
      "2 0 0.056853017340285604 0.11849388086610652\n",
      "2 1 0.07297684221754352 0.13383879068738208\n",
      "2 2 0.0664212272928147 0.12134937438495239\n",
      "2 3 0.0527226307539924 0.10005102795466926\n",
      "2 4 0.06698011543247671 0.12134910143383\n",
      "2 5 0.07017870106803697 0.12599409072158743\n",
      "2 6 0.07034070838399373 0.1232157491385647\n",
      "2 7 0.06814080515051318 0.14561842879489428\n",
      "2 8 0.06232254049277042 0.1251787503280667\n",
      "2 9 0.06326147551732662 0.11361839199880158\n",
      "2 10 0.06272585303207653 0.11176606195621017\n"
     ]
    },
    {
     "name": "stderr",
     "output_type": "stream",
     "text": [
      "  1%|          | 9/1000 [00:04<05:46,  2.86it/s]"
     ]
    },
    {
     "name": "stdout",
     "output_type": "stream",
     "text": [
      "9 0 0.05587981167984434 0.1092260731821178\n"
     ]
    },
    {
     "name": "stderr",
     "output_type": "stream",
     "text": [
      "  1%|          | 11/1000 [00:05<05:47,  2.84it/s]"
     ]
    },
    {
     "name": "stdout",
     "output_type": "stream",
     "text": [
      "11 0 0.10336890420453382 0.16421612542542274\n",
      "11 1 0.13547780372676488 0.2257997157410564\n",
      "11 2 0.1164649358683712 0.1965744834058313\n",
      "11 3 0.06967240982958921 0.1048088552737255\n",
      "11 4 0.06721885717782822 0.1047203185646966\n",
      "11 5 0.12639998701715466 0.21114960915345432\n",
      "11 6 0.058706325759368794 0.08676684245028347\n",
      "11 7 0.07649513822896173 0.11588908390328642\n",
      "11 8 0.06788574736028477 0.09855678614802557\n",
      "11 9 0.1219094322651503 0.20233608497453565\n",
      "11 10 0.09564689496681467 0.14936616426554156\n"
     ]
    },
    {
     "name": "stderr",
     "output_type": "stream",
     "text": [
      "  2%|▏         | 20/1000 [00:10<04:48,  3.40it/s]"
     ]
    },
    {
     "name": "stdout",
     "output_type": "stream",
     "text": [
      "20 0 0.07348925139595286 0.16669207415497223\n",
      "20 1 0.0654369083908414 0.1741200213947711\n",
      "20 2 0.0576183777187546 0.16446613046942418\n",
      "20 3 0.0712604200468086 0.16456786165942733\n"
     ]
    },
    {
     "name": "stderr",
     "output_type": "stream",
     "text": [
      "  3%|▎         | 32/1000 [00:14<04:01,  4.01it/s]"
     ]
    },
    {
     "name": "stdout",
     "output_type": "stream",
     "text": [
      "32 0 0.05660714707148146 0.13479182862586553\n"
     ]
    },
    {
     "name": "stderr",
     "output_type": "stream",
     "text": [
      "  4%|▎         | 35/1000 [00:15<04:28,  3.59it/s]"
     ]
    },
    {
     "name": "stdout",
     "output_type": "stream",
     "text": [
      "35 0 0.12474149317614927 0.13375530176833383\n",
      "35 1 0.18983104887192626 0.20140870833091093\n",
      "35 2 0.22903334206215492 0.24270859553008634\n",
      "35 3 0.2142871774550606 0.22815147823456614\n",
      "35 4 0.14882070534914774 0.15807798707970633\n",
      "35 5 0.19122071322597464 0.2050831035712253\n",
      "35 6 0.18580131570491704 0.1974591330304622\n",
      "35 7 0.22903334206215492 0.24270859553008634\n",
      "35 8 0.14558368701983998 0.15604133183351682\n",
      "35 9 0.22903334206215492 0.24270859553008634\n",
      "35 10 0.22568742785014892 0.24080694165894434\n"
     ]
    },
    {
     "name": "stderr",
     "output_type": "stream",
     "text": [
      "  8%|▊         | 76/1000 [00:28<03:50,  4.02it/s]"
     ]
    },
    {
     "name": "stdout",
     "output_type": "stream",
     "text": [
      "76 0 0.0808516409295132 0.15864575268425862\n"
     ]
    },
    {
     "name": "stderr",
     "output_type": "stream",
     "text": [
      " 10%|▉         | 95/1000 [00:33<03:56,  3.83it/s]"
     ]
    },
    {
     "name": "stdout",
     "output_type": "stream",
     "text": [
      "95 0 0.05071552964309932 0.05453176315846671\n",
      "95 1 0.05017755329133249 0.053326722707853456\n"
     ]
    },
    {
     "name": "stderr",
     "output_type": "stream",
     "text": [
      " 16%|█▌        | 162/1000 [00:50<03:38,  3.84it/s]"
     ]
    },
    {
     "name": "stdout",
     "output_type": "stream",
     "text": [
      "162 0 0.13337637552265866 0.14036373914726757\n",
      "162 1 0.12571396676308103 0.14004218650989447\n",
      "162 2 0.13385695655868723 0.13918378089520764\n",
      "162 3 0.13668983725884667 0.1399636026559761\n",
      "162 4 0.1124912911248147 0.13037923717019112\n",
      "162 5 0.11677373427830548 0.12321215961971384\n",
      "162 6 0.12743218148047256 0.13806564949908534\n",
      "162 7 0.1246203644765245 0.1292798981588263\n",
      "162 8 0.13124629427523965 0.13776029879218557\n",
      "162 9 0.1157060695950414 0.11970671612670895\n",
      "162 10 0.1339070051868936 0.13989033072510132\n"
     ]
    },
    {
     "name": "stderr",
     "output_type": "stream",
     "text": [
      " 16%|█▋        | 165/1000 [00:54<09:03,  1.54it/s]"
     ]
    },
    {
     "name": "stdout",
     "output_type": "stream",
     "text": [
      "165 0 0.14213516853019842 0.1495149304628221\n",
      "165 1 0.14359414991320182 0.15518316447992553\n",
      "165 2 0.14566328595082062 0.156694442148953\n",
      "165 3 0.14049465322514515 0.14616025851807266\n",
      "165 4 0.13961565478911664 0.15047418524395556\n",
      "165 5 0.12961383361709305 0.13847546368573008\n",
      "165 6 0.14494894311127707 0.15524408714933763\n",
      "165 7 0.10891845446810348 0.11869936937906805\n",
      "165 8 0.1494599853894706 0.16437978542386938\n",
      "165 9 0.14359414991320182 0.15495155394129848\n",
      "165 10 0.14213516853019842 0.1495149304628221\n"
     ]
    },
    {
     "name": "stderr",
     "output_type": "stream",
     "text": [
      " 18%|█▊        | 185/1000 [01:01<03:23,  4.00it/s]"
     ]
    },
    {
     "name": "stdout",
     "output_type": "stream",
     "text": [
      "185 0 0.0977486882214889 0.14741268060335086\n",
      "185 1 0.11789514650043836 0.17585283801100068\n",
      "185 2 0.14872075182536781 0.20178286141214657\n",
      "185 3 0.19098226704204202 0.24355399826253632\n",
      "185 4 0.14097924587616162 0.18559991286257865\n",
      "185 5 0.17572739858202996 0.23309155902214818\n",
      "185 6 0.1830855569874311 0.23280761423032426\n",
      "185 7 0.2095267775587999 0.2599111328372222\n",
      "185 8 0.1604671917936332 0.2108512188074444\n",
      "185 9 0.20455200193812292 0.26060404366002465\n",
      "185 10 0.17648958437270412 0.22881553446584935\n"
     ]
    },
    {
     "name": "stderr",
     "output_type": "stream",
     "text": [
      " 20%|█▉        | 199/1000 [01:08<03:28,  3.85it/s]"
     ]
    },
    {
     "name": "stdout",
     "output_type": "stream",
     "text": [
      "199 0 0.06346295066907535 0.0886134901727588\n"
     ]
    },
    {
     "name": "stderr",
     "output_type": "stream",
     "text": [
      " 21%|██        | 212/1000 [01:11<03:20,  3.92it/s]"
     ]
    },
    {
     "name": "stdout",
     "output_type": "stream",
     "text": [
      "212 0 0.06096430413533811 0.0935293660367333\n",
      "212 1 0.0547765677469898 0.08496132376752046\n",
      "212 2 0.07477028869099739 0.11272975680668298\n"
     ]
    },
    {
     "name": "stderr",
     "output_type": "stream",
     "text": [
      " 24%|██▍       | 239/1000 [01:19<03:12,  3.96it/s]"
     ]
    },
    {
     "name": "stdout",
     "output_type": "stream",
     "text": [
      "239 0 0.09989183139821392 0.12182561466760188\n",
      "239 1 0.08598810821943796 0.10949679290683706\n",
      "239 2 0.08943373565517607 0.11127290596004352\n",
      "239 3 0.12736477543207797 0.14862391205640962\n",
      "239 4 0.09532215230268494 0.11713554518168334\n",
      "239 5 0.10569817112329982 0.13019733052104887\n",
      "239 6 0.0841689896526295 0.10697490098826856\n",
      "239 7 0.0847231419730986 0.10394376240560084\n",
      "239 8 0.06405051266250081 0.08489949797770391\n",
      "239 9 0.12860485761521567 0.1526099704017701\n",
      "239 10 0.08303184621995766 0.10488801469768683\n"
     ]
    },
    {
     "name": "stderr",
     "output_type": "stream",
     "text": [
      " 29%|██▊       | 286/1000 [01:33<02:58,  4.00it/s]"
     ]
    },
    {
     "name": "stdout",
     "output_type": "stream",
     "text": [
      "286 0 0.10912909481105305 0.11730715950286026\n",
      "286 1 0.07673260192035783 0.0841912333299768\n"
     ]
    },
    {
     "name": "stderr",
     "output_type": "stream",
     "text": [
      " 31%|███       | 312/1000 [01:40<02:52,  3.98it/s]"
     ]
    },
    {
     "name": "stdout",
     "output_type": "stream",
     "text": [
      "312 0 0.06161460942162895 0.07784750852329193\n"
     ]
    },
    {
     "name": "stderr",
     "output_type": "stream",
     "text": [
      " 32%|███▏      | 318/1000 [01:42<02:59,  3.80it/s]"
     ]
    },
    {
     "name": "stdout",
     "output_type": "stream",
     "text": [
      "318 0 0.054590032911936016 0.09308388073879942\n",
      "318 1 0.053957008013842796 0.09394762235395868\n"
     ]
    },
    {
     "name": "stderr",
     "output_type": "stream",
     "text": [
      " 34%|███▍      | 338/1000 [01:47<02:47,  3.95it/s]"
     ]
    },
    {
     "name": "stdout",
     "output_type": "stream",
     "text": [
      "338 0 0.07008726519153263 0.08589306078200692\n",
      "338 1 0.05836420953434666 0.07361120557177113\n",
      "338 2 0.0771006573399155 0.09081882277572845\n",
      "338 3 0.09506265185049474 0.1080984882565029\n",
      "338 4 0.06169428315574888 0.0757971463753162\n"
     ]
    },
    {
     "name": "stderr",
     "output_type": "stream",
     "text": [
      " 34%|███▍      | 345/1000 [01:50<03:12,  3.40it/s]"
     ]
    },
    {
     "name": "stdout",
     "output_type": "stream",
     "text": [
      "345 0 0.06934212047015693 0.07334091802679167\n",
      "345 1 0.09118710377006496 0.09443461406468617\n",
      "345 2 0.07783373785340969 0.08177902237252921\n",
      "345 3 0.121126744579592 0.12668200930161422\n"
     ]
    },
    {
     "name": "stderr",
     "output_type": "stream",
     "text": [
      " 37%|███▋      | 366/1000 [01:57<02:37,  4.03it/s]"
     ]
    },
    {
     "name": "stdout",
     "output_type": "stream",
     "text": [
      "366 0 0.09881082235445711 0.17323678793888944\n"
     ]
    },
    {
     "name": "stderr",
     "output_type": "stream",
     "text": [
      " 39%|███▉      | 389/1000 [02:03<02:33,  3.97it/s]"
     ]
    },
    {
     "name": "stdout",
     "output_type": "stream",
     "text": [
      "389 0 0.14842502509770006 0.22354448007289127\n",
      "389 1 0.14623941763924975 0.23320565324402767\n",
      "389 2 0.09762498322205995 0.14491257357540538\n",
      "389 3 0.05720293608024775 0.09149950340965018\n"
     ]
    },
    {
     "name": "stderr",
     "output_type": "stream",
     "text": [
      " 47%|████▋     | 469/1000 [02:24<02:16,  3.90it/s]"
     ]
    },
    {
     "name": "stdout",
     "output_type": "stream",
     "text": [
      "469 0 0.05167239975916377 0.09994408416897838\n",
      "469 1 0.059862762891217156 0.11245128211662338\n",
      "469 2 0.05418040235715238 0.11698720552240956\n",
      "469 3 0.05034819981592561 0.10397738075816543\n",
      "469 4 0.06513217031310624 0.122008364924033\n",
      "469 5 0.061836014599234074 0.11244199369376248\n"
     ]
    },
    {
     "name": "stderr",
     "output_type": "stream",
     "text": [
      " 49%|████▉     | 491/1000 [02:31<02:10,  3.91it/s]"
     ]
    },
    {
     "name": "stdout",
     "output_type": "stream",
     "text": [
      "491 0 0.07943497538379503 0.09152522573726703\n",
      "491 1 0.1091072308397456 0.12594848403224362\n",
      "491 2 0.11785556141211886 0.12870645815787587\n",
      "491 3 0.06351629274629744 0.07983678131420183\n",
      "491 4 0.06597960491726365 0.09371365512828678\n",
      "491 5 0.12192762488440365 0.13031871489471714\n"
     ]
    },
    {
     "name": "stderr",
     "output_type": "stream",
     "text": [
      " 51%|█████     | 510/1000 [02:37<02:05,  3.90it/s]"
     ]
    },
    {
     "name": "stdout",
     "output_type": "stream",
     "text": [
      "510 0 0.08521355523927221 0.0976191359359117\n"
     ]
    },
    {
     "name": "stderr",
     "output_type": "stream",
     "text": [
      " 53%|█████▎    | 534/1000 [02:44<01:57,  3.95it/s]"
     ]
    },
    {
     "name": "stdout",
     "output_type": "stream",
     "text": [
      "534 0 0.05340431340704337 0.0725465161153172\n",
      "534 1 0.06444050044311435 0.08981499939580163\n",
      "534 2 0.06740471370094134 0.08622972916985336\n",
      "534 3 0.06305377599471852 0.08826834353625468\n",
      "534 4 0.05151493039042679 0.07459487132392237\n"
     ]
    },
    {
     "name": "stderr",
     "output_type": "stream",
     "text": [
      " 63%|██████▎   | 627/1000 [03:08<01:35,  3.90it/s]"
     ]
    },
    {
     "name": "stdout",
     "output_type": "stream",
     "text": [
      "627 0 0.05045277860228296 0.07525777073995515\n",
      "627 1 0.05559934811007649 0.07978115953256747\n"
     ]
    },
    {
     "name": "stderr",
     "output_type": "stream",
     "text": [
      " 76%|███████▌  | 762/1000 [03:43<01:00,  3.96it/s]"
     ]
    },
    {
     "name": "stdout",
     "output_type": "stream",
     "text": [
      "762 0 0.05856532539671575 0.11795912735822017\n"
     ]
    },
    {
     "name": "stderr",
     "output_type": "stream",
     "text": [
      " 83%|████████▎ | 827/1000 [04:00<00:43,  3.98it/s]"
     ]
    },
    {
     "name": "stdout",
     "output_type": "stream",
     "text": [
      "827 0 0.053166043850750314 0.09682342407832051\n"
     ]
    },
    {
     "name": "stderr",
     "output_type": "stream",
     "text": [
      " 93%|█████████▎| 930/1000 [04:26<00:18,  3.87it/s]"
     ]
    },
    {
     "name": "stdout",
     "output_type": "stream",
     "text": [
      "930 0 0.11007371945455692 0.17201326392110544\n",
      "930 1 0.054120192671364684 0.12508397538224686\n"
     ]
    },
    {
     "name": "stderr",
     "output_type": "stream",
     "text": [
      " 98%|█████████▊| 985/1000 [04:41<00:03,  3.94it/s]"
     ]
    },
    {
     "name": "stdout",
     "output_type": "stream",
     "text": [
      "985 0 0.06859012354616743 0.16274843488652674\n"
     ]
    },
    {
     "name": "stderr",
     "output_type": "stream",
     "text": [
      "100%|██████████| 1000/1000 [04:45<00:00,  3.51it/s]\n"
     ]
    }
   ],
   "source": [
    "from tqdm import tqdm\n",
    "encore_seq = np.zeros((pairs, 1000))\n",
    "he_seq = np.zeros((pairs, 1000))\n",
    "\n",
    "for pair in tqdm(range(1000)):\n",
    "    size_data = sizedata[pair]\n",
    "    size_index = np.concatenate((pairdata[freqpairs[pair]].size_index.values, pairdata[freqpairs[pair]].size_index.values[0:1]))\n",
    "\n",
    "    size_seq = []\n",
    "    while len(size_seq) < 1000:\n",
    "        size = np.random.choice(np.arange(n_size), p=sizedata[pair])\n",
    "        size_seq.append(size)\n",
    "    size_seq = np.array(size_seq)[0:1000]\n",
    "    he_seq[pair] = size_seq\n",
    "\n",
    "    for seed in range(100):\n",
    "        np.random.seed(seed)\n",
    "        torch.manual_seed(seed)\n",
    "        start_size = np.random.choice(np.arange(n_size), p=sizedata[pair])\n",
    "        size_seq = [start_size]\n",
    "        while len(size_seq) < 1000:\n",
    "            new_size = sample(size_data, 16, start_size=start_size)\n",
    "            if set(new_size).issubset(np.unique(pairdata[freqpairs[pair]].size_index.values)):\n",
    "                size_seq += list(new_size[1:])\n",
    "                start_size = new_size[-1]\n",
    "                if seed > 10:\n",
    "                    start_size = np.random.choice(np.arange(30), p=sizedata[pair])\n",
    "        \n",
    "        size_seq = np.array(size_seq)\n",
    "        values, counts = np.unique(size_seq, return_counts=True)\n",
    "        new_size = np.zeros(n_size, dtype=float)\n",
    "        new_size[values] = counts\n",
    "        new_size /= new_size.sum()\n",
    "\n",
    "        rnn_s2s_pair = [size_seq[:-1] * n_size + size_seq[1:]]  \n",
    "        values, counts = np.unique(rnn_s2s_pair, return_counts=True)\n",
    "        rnn_s2s_pair = np.zeros(n_size ** 2, dtype=float)\n",
    "        rnn_s2s_pair[values] = counts\n",
    "        rnn_s2s_pair /= rnn_s2s_pair.sum()\n",
    "        \n",
    "        if JSD(new_size, sizedata[pair]) < 0.05:\n",
    "            break\n",
    "        print(pair, seed, JSD(new_size, sizedata[pair]), JSD(rnn_s2s_pair, s2s_pair[pair]))\n",
    "    encore_seq[pair] = size_seq[0:1000]"
   ]
  },
  {
   "cell_type": "code",
   "execution_count": 17,
   "metadata": {},
   "outputs": [
    {
     "name": "stderr",
     "output_type": "stream",
     "text": [
      "100%|██████████| 1000/1000 [00:00<00:00, 31627.91it/s]\n",
      "100%|██████████| 1000/1000 [00:00<00:00, 23559.53it/s]\n",
      "100%|██████████| 1000/1000 [00:00<00:00, 15702.95it/s]\n",
      "100%|██████████| 1000/1000 [00:00<00:00, 26491.40it/s]\n",
      "100%|██████████| 1000/1000 [00:00<00:00, 18667.15it/s]\n",
      "100%|██████████| 1000/1000 [00:00<00:00, 8821.48it/s]\n",
      "100%|██████████| 1000/1000 [00:00<00:00, 29189.75it/s]\n",
      "100%|██████████| 1000/1000 [00:00<00:00, 21398.75it/s]\n",
      "100%|██████████| 1000/1000 [00:00<00:00, 13201.92it/s]\n"
     ]
    }
   ],
   "source": [
    "grams = {}\n",
    "for i in [2, 3, 4]:\n",
    "    grams[i] = np.zeros((pairs, n_size ** i))\n",
    "    for pair in tqdm(range(pairs)):\n",
    "        sizeindex = pairdata[freqpairs[pair]]['size_index'].values\n",
    "        l = len(sizeindex) - i + 1\n",
    "        feature = np.zeros(l, dtype=int)\n",
    "        for j in range(i):\n",
    "            feature += sizeindex[j:j+l] * n_size ** (i - j - 1)\n",
    "        values, counts = np.unique(feature, return_counts=True)\n",
    "        grams[i][pair][values] = counts\n",
    "    grams[i] /= grams[i].sum(axis=1).reshape(-1, 1)\n",
    "\n",
    "he_grams = {}\n",
    "for i in [2, 3, 4]:\n",
    "    he_grams[i] = np.zeros((pairs, n_size ** i))\n",
    "    for pair in tqdm(range(pairs)):\n",
    "        sizeindex = he_seq[pair].astype(int)\n",
    "        l = len(sizeindex) - i + 1\n",
    "        feature = np.zeros(l, dtype=int)\n",
    "        for j in range(i):\n",
    "            feature += sizeindex[j:j+l] * n_size ** (i - j - 1)\n",
    "        values, counts = np.unique(feature, return_counts=True)\n",
    "        he_grams[i][pair][values] = counts\n",
    "    he_grams[i] /= he_grams[i].sum(axis=1).reshape(-1, 1)\n",
    "\n",
    "encore_grams = {}\n",
    "for i in [2, 3, 4]:\n",
    "    encore_grams[i] = np.zeros((pairs, n_size ** i))\n",
    "    for pair in tqdm(range(pairs)):\n",
    "        sizeindex = encore_seq[pair].astype(int)\n",
    "        l = len(sizeindex) - i + 1\n",
    "        feature = np.zeros(l, dtype=int)\n",
    "        for j in range(i):\n",
    "            feature += sizeindex[j:j+l] * n_size ** (i - j - 1)\n",
    "        values, counts = np.unique(feature, return_counts=True)\n",
    "        encore_grams[i][pair][values] = counts\n",
    "    encore_grams[i] /= encore_grams[i].sum(axis=1).reshape(-1, 1)"
   ]
  },
  {
   "cell_type": "code",
   "execution_count": 18,
   "metadata": {},
   "outputs": [],
   "source": [
    "def JSD(p, q):\n",
    "    p = list(p)\n",
    "    q = list(q)\n",
    "    pq_max_len = max(len(p), len(q))\n",
    "    p += [0.0] * (pq_max_len - len(p))\n",
    "    q += [0.0] * (pq_max_len - len(q))\n",
    "    assert (len(p) == len(q))\n",
    "    m = np.sum([p, q], axis=0) / 2\n",
    "    return 0.5 * entropy(p, m) + 0.5 * entropy(q, m)"
   ]
  },
  {
   "cell_type": "code",
   "execution_count": 19,
   "metadata": {},
   "outputs": [
    {
     "name": "stderr",
     "output_type": "stream",
     "text": [
      "100%|██████████| 1000/1000 [00:00<00:00, 1988.17it/s]\n",
      "100%|██████████| 1000/1000 [00:12<00:00, 82.20it/s]\n",
      "100%|██████████| 1000/1000 [06:22<00:00,  2.61it/s]\n"
     ]
    }
   ],
   "source": [
    "he_jsds, encore_jsds = {}, {}\n",
    "for i in range(2, 5):\n",
    "    he_jsds[i] = []    \n",
    "    encore_jsds[i] = []    \n",
    "    for pair in tqdm(range(pairs)):\n",
    "        he_jsds[i].append(JSD(grams[i][pair], he_grams[i][pair]))\n",
    "        encore_jsds[i].append(JSD(grams[i][pair], encore_grams[i][pair]))\n",
    "    he_jsds[i] = np.array(he_jsds[i])\n",
    "    encore_jsds[i] = np.array(encore_jsds[i])"
   ]
  },
  {
   "cell_type": "code",
   "execution_count": 21,
   "metadata": {},
   "outputs": [
    {
     "data": {
      "image/png": "[encoded data removed]",
      "text/plain": [
       "<Figure size 500x300 with 1 Axes>"
      ]
     },
     "metadata": {},
     "output_type": "display_data"
    },
    {
     "data": {
      "image/png": "[encoded data removed]",
      "text/plain": [
       "<Figure size 500x300 with 1 Axes>"
      ]
     },
     "metadata": {},
     "output_type": "display_data"
    },
    {
     "data": {
      "image/png": "[encoded data removed]",
      "text/plain": [
       "<Figure size 500x300 with 1 Axes>"
      ]
     },
     "metadata": {},
     "output_type": "display_data"
    }
   ],
   "source": [
    "import matplotlib.pyplot as plt\n",
    "\n",
    "for i in range(2, 5):\n",
    "    plt.figure(figsize=(5, 3))\n",
    "    plt.subplots_adjust(left=0.18, top=0.98, bottom=0.24, right=0.98)\n",
    "    ax = plt.subplot(111)\n",
    "    ax.spines['top'].set_visible(False)\n",
    "    ax.spines['right'].set_visible(False)\n",
    "    values, bins = np.histogram(encore_jsds[i], bins=np.arange(0, np.max(encore_jsds[i]) + 0.01, 0.01))\n",
    "    cdf = np.cumsum(values) / np.sum(values)\n",
    "    plt.plot(bins[:-1], cdf, linewidth=2, color='CornFlowerBlue', label='Encore')\n",
    "    values, bins = np.histogram(he_jsds[i], bins=np.arange(0, np.max(he_jsds[i]) + 0.01, 0.01))\n",
    "    cdf = np.cumsum(values) / np.sum(values)\n",
    "    plt.plot(bins[:-1], cdf, linewidth=2, color='IndianRed', label='Common Practice')\n",
    "    plt.ylim(0, 1.05)\n",
    "    plt.legend(fontsize=20, frameon=False)\n",
    "    plt.ylabel('CDF', fontsize=20)\n",
    "    plt.xlabel('JSD', fontsize=20)\n",
    "    plt.grid(linestyle='-.')\n",
    "    plt.xticks(fontsize=20)\n",
    "    plt.yticks(fontsize=20)\n",
    "\n",
    "    if i == 2:\n",
    "        bbox_props = dict(boxstyle=\"larrow\", fc=\"none\", ec=\"red\", lw=2)\n",
    "        t = ax.text(0.125, 0.84, \"Better\", ha=\"center\", va=\"center\", rotation=0,\n",
    "                    size=18,\n",
    "                    bbox=bbox_props)\n",
    "    elif i == 3:\n",
    "        bbox_props = dict(boxstyle=\"larrow\", fc=\"none\", ec=\"red\", lw=2)\n",
    "        t = ax.text(0.22, 0.8, \"Better\", ha=\"center\", va=\"center\", rotation=0,\n",
    "                    size=18,\n",
    "                    bbox=bbox_props)\n",
    "    else:\n",
    "        bbox_props = dict(boxstyle=\"larrow\", fc=\"none\", ec=\"red\", lw=2)\n",
    "        t = ax.text(0.3, 0.8, \"Better\", ha=\"center\", va=\"center\", rotation=0,\n",
    "                    size=18,\n",
    "                    bbox=bbox_props)\n",
    "    plt.legend(fontsize=20, frameon=False, loc=(0.18, -0.02))\n",
    "\n",
    "    plt.savefig('figure/{i}-gram-jsd.pdf'.format(i=i), dpi=300)"
   ]
  },
  {
   "cell_type": "code",
   "execution_count": 65,
   "metadata": {},
   "outputs": [
    {
     "name": "stdout",
     "output_type": "stream",
     "text": [
      "0 0.00013337454857514745 0.0006931725411965916 0.026807747731062814\n",
      "1 0.011805364549085675 0.06839816184360163 0.2333550043571106\n",
      "2 0.048848161873076834 0.12050960591118719 0.3377306129364187\n"
     ]
    },
    {
     "ename": "KeyboardInterrupt",
     "evalue": "",
     "output_type": "error",
     "traceback": [
      "\u001b[0;31m---------------------------------------------------------------------------\u001b[0m",
      "\u001b[0;31mKeyboardInterrupt\u001b[0m                         Traceback (most recent call last)",
      "Cell \u001b[0;32mIn[65], line 12\u001b[0m\n\u001b[1;32m     10\u001b[0m size_seq_gen \u001b[39m=\u001b[39m [start_size]\n\u001b[1;32m     11\u001b[0m \u001b[39mwhile\u001b[39;00m \u001b[39mlen\u001b[39m(size_seq_gen) \u001b[39m<\u001b[39m \u001b[39m1000\u001b[39m:\n\u001b[0;32m---> 12\u001b[0m     new_size \u001b[39m=\u001b[39m sample(size_data, \u001b[39m16\u001b[39;49m, start_size\u001b[39m=\u001b[39;49mstart_size)\n\u001b[1;32m     13\u001b[0m     \u001b[39mif\u001b[39;00m \u001b[39mset\u001b[39m(new_size)\u001b[39m.\u001b[39missubset(np\u001b[39m.\u001b[39munique(pairdata[freqpairs[pair]]\u001b[39m.\u001b[39msize_index\u001b[39m.\u001b[39mvalues)):\n\u001b[1;32m     14\u001b[0m         size_seq_gen \u001b[39m+\u001b[39m\u001b[39m=\u001b[39m \u001b[39mlist\u001b[39m(new_size[\u001b[39m1\u001b[39m:])\n",
      "Cell \u001b[0;32mIn[33], line 13\u001b[0m, in \u001b[0;36msample\u001b[0;34m(size_data, seq_length, start_size)\u001b[0m\n\u001b[1;32m     11\u001b[0m \u001b[39minput\u001b[39m \u001b[39m=\u001b[39m inputTensor(np\u001b[39m.\u001b[39marray([[size]]))\u001b[39m.\u001b[39mto(device)\n\u001b[1;32m     12\u001b[0m \u001b[39minput\u001b[39m \u001b[39m=\u001b[39m \u001b[39minput\u001b[39m\u001b[39m.\u001b[39mfloat()\n\u001b[0;32m---> 13\u001b[0m output, hn \u001b[39m=\u001b[39m gru(\u001b[39minput\u001b[39;49m, hn)\n\u001b[1;32m     14\u001b[0m output \u001b[39m=\u001b[39m softmax(output)\n\u001b[1;32m     15\u001b[0m p_size \u001b[39m=\u001b[39m output\u001b[39m.\u001b[39mdetach()\u001b[39m.\u001b[39mcpu()\u001b[39m.\u001b[39mnumpy()\u001b[39m.\u001b[39msqueeze()\n",
      "File \u001b[0;32m~/anaconda3/envs/py38/lib/python3.8/site-packages/torch/nn/modules/module.py:1130\u001b[0m, in \u001b[0;36mModule._call_impl\u001b[0;34m(self, *input, **kwargs)\u001b[0m\n\u001b[1;32m   1126\u001b[0m \u001b[39m# If we don't have any hooks, we want to skip the rest of the logic in\u001b[39;00m\n\u001b[1;32m   1127\u001b[0m \u001b[39m# this function, and just call forward.\u001b[39;00m\n\u001b[1;32m   1128\u001b[0m \u001b[39mif\u001b[39;00m \u001b[39mnot\u001b[39;00m (\u001b[39mself\u001b[39m\u001b[39m.\u001b[39m_backward_hooks \u001b[39mor\u001b[39;00m \u001b[39mself\u001b[39m\u001b[39m.\u001b[39m_forward_hooks \u001b[39mor\u001b[39;00m \u001b[39mself\u001b[39m\u001b[39m.\u001b[39m_forward_pre_hooks \u001b[39mor\u001b[39;00m _global_backward_hooks\n\u001b[1;32m   1129\u001b[0m         \u001b[39mor\u001b[39;00m _global_forward_hooks \u001b[39mor\u001b[39;00m _global_forward_pre_hooks):\n\u001b[0;32m-> 1130\u001b[0m     \u001b[39mreturn\u001b[39;00m forward_call(\u001b[39m*\u001b[39;49m\u001b[39minput\u001b[39;49m, \u001b[39m*\u001b[39;49m\u001b[39m*\u001b[39;49mkwargs)\n\u001b[1;32m   1131\u001b[0m \u001b[39m# Do not call functions when jit is used\u001b[39;00m\n\u001b[1;32m   1132\u001b[0m full_backward_hooks, non_full_backward_hooks \u001b[39m=\u001b[39m [], []\n",
      "Cell \u001b[0;32mIn[50], line 10\u001b[0m, in \u001b[0;36mGRU.forward\u001b[0;34m(self, x, hidden)\u001b[0m\n\u001b[1;32m      9\u001b[0m \u001b[39mdef\u001b[39;00m \u001b[39mforward\u001b[39m(\u001b[39mself\u001b[39m, x, hidden):\n\u001b[0;32m---> 10\u001b[0m     out, hidden \u001b[39m=\u001b[39m \u001b[39mself\u001b[39;49m\u001b[39m.\u001b[39;49mgru(x, hidden)\n\u001b[1;32m     11\u001b[0m     out \u001b[39m=\u001b[39m \u001b[39mself\u001b[39m\u001b[39m.\u001b[39mh2o(out)\n\u001b[1;32m     12\u001b[0m     out \u001b[39m=\u001b[39m \u001b[39mself\u001b[39m\u001b[39m.\u001b[39msoftmax(out)\n",
      "File \u001b[0;32m~/anaconda3/envs/py38/lib/python3.8/site-packages/torch/nn/modules/module.py:1130\u001b[0m, in \u001b[0;36mModule._call_impl\u001b[0;34m(self, *input, **kwargs)\u001b[0m\n\u001b[1;32m   1126\u001b[0m \u001b[39m# If we don't have any hooks, we want to skip the rest of the logic in\u001b[39;00m\n\u001b[1;32m   1127\u001b[0m \u001b[39m# this function, and just call forward.\u001b[39;00m\n\u001b[1;32m   1128\u001b[0m \u001b[39mif\u001b[39;00m \u001b[39mnot\u001b[39;00m (\u001b[39mself\u001b[39m\u001b[39m.\u001b[39m_backward_hooks \u001b[39mor\u001b[39;00m \u001b[39mself\u001b[39m\u001b[39m.\u001b[39m_forward_hooks \u001b[39mor\u001b[39;00m \u001b[39mself\u001b[39m\u001b[39m.\u001b[39m_forward_pre_hooks \u001b[39mor\u001b[39;00m _global_backward_hooks\n\u001b[1;32m   1129\u001b[0m         \u001b[39mor\u001b[39;00m _global_forward_hooks \u001b[39mor\u001b[39;00m _global_forward_pre_hooks):\n\u001b[0;32m-> 1130\u001b[0m     \u001b[39mreturn\u001b[39;00m forward_call(\u001b[39m*\u001b[39;49m\u001b[39minput\u001b[39;49m, \u001b[39m*\u001b[39;49m\u001b[39m*\u001b[39;49mkwargs)\n\u001b[1;32m   1131\u001b[0m \u001b[39m# Do not call functions when jit is used\u001b[39;00m\n\u001b[1;32m   1132\u001b[0m full_backward_hooks, non_full_backward_hooks \u001b[39m=\u001b[39m [], []\n",
      "File \u001b[0;32m~/anaconda3/envs/py38/lib/python3.8/site-packages/torch/nn/modules/rnn.py:950\u001b[0m, in \u001b[0;36mGRU.forward\u001b[0;34m(self, input, hx)\u001b[0m\n\u001b[1;32m    948\u001b[0m \u001b[39mself\u001b[39m\u001b[39m.\u001b[39mcheck_forward_args(\u001b[39minput\u001b[39m, hx, batch_sizes)\n\u001b[1;32m    949\u001b[0m \u001b[39mif\u001b[39;00m batch_sizes \u001b[39mis\u001b[39;00m \u001b[39mNone\u001b[39;00m:\n\u001b[0;32m--> 950\u001b[0m     result \u001b[39m=\u001b[39m _VF\u001b[39m.\u001b[39;49mgru(\u001b[39minput\u001b[39;49m, hx, \u001b[39mself\u001b[39;49m\u001b[39m.\u001b[39;49m_flat_weights, \u001b[39mself\u001b[39;49m\u001b[39m.\u001b[39;49mbias, \u001b[39mself\u001b[39;49m\u001b[39m.\u001b[39;49mnum_layers,\n\u001b[1;32m    951\u001b[0m                      \u001b[39mself\u001b[39;49m\u001b[39m.\u001b[39;49mdropout, \u001b[39mself\u001b[39;49m\u001b[39m.\u001b[39;49mtraining, \u001b[39mself\u001b[39;49m\u001b[39m.\u001b[39;49mbidirectional, \u001b[39mself\u001b[39;49m\u001b[39m.\u001b[39;49mbatch_first)\n\u001b[1;32m    952\u001b[0m \u001b[39melse\u001b[39;00m:\n\u001b[1;32m    953\u001b[0m     result \u001b[39m=\u001b[39m _VF\u001b[39m.\u001b[39mgru(\u001b[39minput\u001b[39m, batch_sizes, hx, \u001b[39mself\u001b[39m\u001b[39m.\u001b[39m_flat_weights, \u001b[39mself\u001b[39m\u001b[39m.\u001b[39mbias,\n\u001b[1;32m    954\u001b[0m                      \u001b[39mself\u001b[39m\u001b[39m.\u001b[39mnum_layers, \u001b[39mself\u001b[39m\u001b[39m.\u001b[39mdropout, \u001b[39mself\u001b[39m\u001b[39m.\u001b[39mtraining, \u001b[39mself\u001b[39m\u001b[39m.\u001b[39mbidirectional)\n",
      "\u001b[0;31mKeyboardInterrupt\u001b[0m: "
     ]
    }
   ],
   "source": [
    "rnn_jsds, he_jsds = [], []\n",
    "for pair in range(1000):\n",
    "    size_data = sizedata[pair]\n",
    "    size_index = np.concatenate((pairdata[freqpairs[pair]].size_index.values, pairdata[freqpairs[pair]].size_index.values[0:1]))\n",
    "\n",
    "    for seed in range(100):\n",
    "        np.random.seed(seed)\n",
    "        torch.manual_seed(seed)\n",
    "        start_size = np.random.choice(np.arange(30), p=sizedata[pair])\n",
    "        size_seq_gen = [start_size]\n",
    "        while len(size_seq_gen) < 1000:\n",
    "            new_size = sample(size_data, 16, start_size=start_size)\n",
    "            if set(new_size).issubset(np.unique(pairdata[freqpairs[pair]].size_index.values)):\n",
    "                size_seq_gen += list(new_size[1:])\n",
    "                start_size = new_size[-1]\n",
    "                if seed > 10:\n",
    "                    start_size = np.random.choice(np.arange(30), p=sizedata[pair])\n",
    "        size_seq_gen = np.array(size_seq_gen)\n",
    "        values, counts = np.unique(size_seq_gen, return_counts=True)\n",
    "        new_size = np.zeros(n_size, dtype=float)\n",
    "        new_size[values] = counts\n",
    "        new_size /= new_size.sum()\n",
    "\n",
    "        rnn_s2s_pair = [size_seq_gen[:-1] * n_size + size_seq_gen[1:]]  \n",
    "        values, counts = np.unique(rnn_s2s_pair, return_counts=True)\n",
    "        rnn_s2s_pair = np.zeros(n_size ** 2, dtype=float)\n",
    "        rnn_s2s_pair[values] = counts\n",
    "        rnn_s2s_pair /= rnn_s2s_pair.sum()\n",
    "        \n",
    "        # print(seed, JSD(new_size, sizedata[pair]), JSD(rnn_s2s_pair, s2s_pair[pair]))\n",
    "        if JSD(new_size, sizedata[pair]) < 0.05:\n",
    "            break\n",
    "\n",
    "    rnn_s2s_pair = [size_seq_gen[:-1] * n_size + size_seq_gen[1:]]  \n",
    "    values, counts = np.unique(rnn_s2s_pair, return_counts=True)\n",
    "    rnn_s2s_pair = np.zeros(n_size ** 2, dtype=float)\n",
    "    rnn_s2s_pair[values] = counts\n",
    "    rnn_s2s_pair /= rnn_s2s_pair.sum()\n",
    "\n",
    "    he_size_seq = []\n",
    "    while len(he_size_seq) < 1000:\n",
    "        size = np.random.choice(np.arange(30), p=sizedata[pair])\n",
    "        he_size_seq.append(size)\n",
    "    he_size_seq = np.array(he_size_seq)\n",
    "\n",
    "    he_s2s_pair = [he_size_seq[:-1] * n_size + he_size_seq[1:]]  \n",
    "    values, counts = np.unique(he_s2s_pair, return_counts=True)\n",
    "    he_s2s_pair = np.zeros(n_size * n_size, dtype=float)\n",
    "    he_s2s_pair[values] = counts\n",
    "    he_s2s_pair /= he_s2s_pair.sum()\n",
    "\n",
    "    print(pair, JSD(new_size, sizedata[pair]), JSD(rnn_s2s_pair, s2s_pair[pair]), JSD(he_s2s_pair, s2s_pair[pair]))\n",
    "    rnn_jsds.append(JSD(rnn_s2s_pair, s2s_pair[pair]))\n",
    "    he_jsds.append(JSD(he_s2s_pair, s2s_pair[pair]))"
   ]
  },
  {
   "cell_type": "code",
   "execution_count": 67,
   "metadata": {},
   "outputs": [
    {
     "data": {
      "image/png": "[encoded data removed]",
      "text/plain": [
       "<Figure size 500x300 with 1 Axes>"
      ]
     },
     "metadata": {},
     "output_type": "display_data"
    },
    {
     "data": {
      "image/png": "[encoded data removed]",
      "text/plain": [
       "<Figure size 500x300 with 1 Axes>"
      ]
     },
     "metadata": {},
     "output_type": "display_data"
    }
   ],
   "source": []
  },
  {
   "cell_type": "code",
   "execution_count": 41,
   "metadata": {},
   "outputs": [
    {
     "name": "stdout",
     "output_type": "stream",
     "text": [
      "50 0.016796066997483282 0.07346432855368562\n",
      "90 0.07909204873483928 0.2751986895385197\n",
      "95 0.09532450370252392 0.31491465589104833\n",
      "99 0.1320168295307611 0.3700949495105308\n"
     ]
    }
   ],
   "source": [
    "for i in [50, 90, 95, 99]:\n",
    "    print(i, np.percentile(rnn_jsds, i), np.percentile(he_jsds, i))"
   ]
  },
  {
   "cell_type": "code",
   "execution_count": 136,
   "metadata": {},
   "outputs": [
    {
     "name": "stdout",
     "output_type": "stream",
     "text": [
      "50 0.012160265192768834 0.07145898533012404\n",
      "90 0.047915725836543216 0.2727736298325866\n",
      "95 0.053717750535610495 0.3153216864822403\n",
      "99 0.06597230544940674 0.36794891171362076\n"
     ]
    }
   ],
   "source": [
    "for i in [50, 90, 95, 99]:\n",
    "    print(i, np.percentile(rnn_jsds, i), np.percentile(he_jsds, i))"
   ]
  },
  {
   "cell_type": "code",
   "execution_count": 10,
   "metadata": {},
   "outputs": [],
   "source": [
    "# torch.save(gru, 'models/gru-0504.pth')\n",
    "# torch.save(s2h, 'models/s2h-0504.pth')"
   ]
  },
  {
   "cell_type": "code",
   "execution_count": 11,
   "metadata": {},
   "outputs": [],
   "source": [
    "class SizeDecoder(torch.nn.Module):\n",
    "    def __init__(self, output_dim, hidden_dims, latent_dim):\n",
    "        super(SizeDecoder, self).__init__()\n",
    "        self.decoder = torch.nn.ModuleList()\n",
    "        in_dim = latent_dim\n",
    "        for h_dim in hidden_dims:\n",
    "            self.decoder.append(\n",
    "                nn.Sequential(\n",
    "                    nn.Linear(in_dim, out_features=h_dim,),\n",
    "                    nn.ReLU())\n",
    "            )\n",
    "            in_dim = h_dim\n",
    "        self.output = nn.Linear(hidden_dims[-1], output_dim)\n",
    "    \n",
    "    def forward(self, x: Tensor) -> List[Tensor]:\n",
    "        for module in self.decoder:\n",
    "            x = module(x)\n",
    "        result = self.output(x)\n",
    "        result = F.softmax(result, dim=1)\n",
    "        return result\n",
    "    \n",
    "decoder = torch.load('models/size-decoder-0425.pth')\n",
    "gru = torch.load('models/gru-0504.pth')\n",
    "s2h = torch.load('models/s2h-0504.pth')"
   ]
  },
  {
   "cell_type": "code",
   "execution_count": 50,
   "metadata": {},
   "outputs": [],
   "source": [
    "from scipy.stats import entropy\n",
    "from tqdm import tqdm\n",
    "def JSD(p, q):\n",
    "    p = list(p)\n",
    "    q = list(q)\n",
    "    pq_max_len = max(len(p), len(q))\n",
    "    p += [0.0] * (pq_max_len - len(p))\n",
    "    q += [0.0] * (pq_max_len - len(q))\n",
    "    assert (len(p) == len(q))\n",
    "    m = np.sum([p, q], axis=0) / 2\n",
    "    return 0.5 * entropy(p, m) + 0.5 * entropy(q, m)\n",
    "\n",
    "def sample_noisy_dataset(n, seed):\n",
    "    torch.manual_seed(seed)\n",
    "    dataset = []\n",
    "    for i in tqdm(range(n)):\n",
    "        latent_dim = 32\n",
    "        z = torch.randn((1, latent_dim)).to(device)\n",
    "        size = decoder(z)\n",
    "        size = size.squeeze().detach().to('cpu').numpy()\n",
    "        size[size < 1e-3] = 0\n",
    "        size /= size.sum()\n",
    "\n",
    "        dis = []\n",
    "        for j in range(1000):\n",
    "            loss = JSD(size, sizedata[j])\n",
    "            dis.append(loss)\n",
    "\n",
    "        pair = np.argmin(dis)\n",
    "        ran_index = np.random.randint(len(seq_set[pair]))\n",
    "        dataset.append([seq_set[pair][ran_index], size, target_set[pair][ran_index]])\n",
    "        \n",
    "    return dataset"
   ]
  },
  {
   "cell_type": "code",
   "execution_count": 71,
   "metadata": {},
   "outputs": [
    {
     "name": "stderr",
     "output_type": "stream",
     "text": [
      "100%|██████████| 5000/5000 [05:13<00:00, 15.93it/s]\n"
     ]
    }
   ],
   "source": [
    "a = []\n",
    "for i in tqdm(range(1000)):\n",
    "    torch.manual_seed(i)\n",
    "    latent_dim = 32\n",
    "    z = torch.randn((1, latent_dim)).to(device)\n",
    "    size = decoder(z)\n",
    "    size = size.squeeze().detach().to('cpu').numpy()\n",
    "    size[size < 1e-3] = 0\n",
    "    size /= size.sum()\n",
    "\n",
    "    dis = []\n",
    "    for j in range(1000):\n",
    "        loss = JSD(size, sizedata[j])\n",
    "        dis.append(loss)\n",
    "\n",
    "    pair = np.argmin(dis)\n",
    "    a.append(pair)"
   ]
  },
  {
   "cell_type": "code",
   "execution_count": 47,
   "metadata": {},
   "outputs": [
    {
     "name": "stdout",
     "output_type": "stream",
     "text": [
      "100 0.37469881772994995 0.36950908958911893 11.19027829170227\n",
      "200 0.36915746331214905 0.35975850641727447 21.188878059387207\n",
      "300 0.35969191789627075 0.35673402369022367 32.09577918052673\n"
     ]
    },
    {
     "ename": "KeyboardInterrupt",
     "evalue": "",
     "output_type": "error",
     "traceback": [
      "\u001b[0;31m---------------------------------------------------------------------------\u001b[0m",
      "\u001b[0;31mKeyboardInterrupt\u001b[0m                         Traceback (most recent call last)",
      "Cell \u001b[0;32mIn[47], line 13\u001b[0m\n\u001b[1;32m     11\u001b[0m \u001b[39m# dataset.extend([tune_dataset[i] for i in ran_index])\u001b[39;00m\n\u001b[1;32m     12\u001b[0m dataloader \u001b[39m=\u001b[39m DataLoader(dataset, batch_size\u001b[39m=\u001b[39m\u001b[39m2000\u001b[39m, shuffle\u001b[39m=\u001b[39m\u001b[39mTrue\u001b[39;00m)\n\u001b[0;32m---> 13\u001b[0m loss \u001b[39m=\u001b[39m train(dataloader, optimizer)\n\u001b[1;32m     14\u001b[0m avg_loss \u001b[39m+\u001b[39m\u001b[39m=\u001b[39m loss\n\u001b[1;32m     15\u001b[0m \u001b[39mif\u001b[39;00m i \u001b[39mand\u001b[39;00m i \u001b[39m%\u001b[39m plot_every \u001b[39m==\u001b[39m \u001b[39m0\u001b[39m:\n",
      "Cell \u001b[0;32mIn[16], line 6\u001b[0m, in \u001b[0;36mtrain\u001b[0;34m(dataloader, optimizer)\u001b[0m\n\u001b[1;32m      4\u001b[0m sum_loss \u001b[39m=\u001b[39m \u001b[39m0\u001b[39m\n\u001b[1;32m      5\u001b[0m \u001b[39mfor\u001b[39;00m seq_tensor, size_tensor, target_tensor \u001b[39min\u001b[39;00m dataloader:\n\u001b[0;32m----> 6\u001b[0m     seq_tensor \u001b[39m=\u001b[39m inputTensor(seq_tensor)\u001b[39m.\u001b[39mfloat()\u001b[39m.\u001b[39mto(device)\n\u001b[1;32m      7\u001b[0m     size_tensor \u001b[39m=\u001b[39m size_tensor\u001b[39m.\u001b[39mfloat()\u001b[39m.\u001b[39mto(device)\n\u001b[1;32m      8\u001b[0m     target_tensor \u001b[39m=\u001b[39m target_tensor\u001b[39m.\u001b[39mT\u001b[39m.\u001b[39mlong()\u001b[39m.\u001b[39mto(device)\n",
      "Cell \u001b[0;32mIn[12], line 14\u001b[0m, in \u001b[0;36minputTensor\u001b[0;34m(lines)\u001b[0m\n\u001b[1;32m     12\u001b[0m     \u001b[39mfor\u001b[39;00m i \u001b[39min\u001b[39;00m \u001b[39mrange\u001b[39m(lines\u001b[39m.\u001b[39mshape[\u001b[39m1\u001b[39m]):\n\u001b[1;32m     13\u001b[0m         size \u001b[39m=\u001b[39m lines[line][i]\n\u001b[0;32m---> 14\u001b[0m         tensor[i][line][size] \u001b[39m=\u001b[39m \u001b[39m1\u001b[39m\n\u001b[1;32m     15\u001b[0m \u001b[39mreturn\u001b[39;00m tensor\n",
      "\u001b[0;31mKeyboardInterrupt\u001b[0m: "
     ]
    }
   ],
   "source": [
    "lr = 1e-3\n",
    "# optimizer = torch.optim.Adam([{'params': s2h.parameters()}], lr=lr)\n",
    "optimizer = torch.optim.Adam([{'params': gru.parameters()}, {'params': s2h.parameters()}], lr=lr)\n",
    "\n",
    "s_time = time.time()\n",
    "plot_every = 100\n",
    "avg_loss = 0\n",
    "for i in range(1000001):\n",
    "    dataset = sample_dataset(i)\n",
    "    ran_index = np.random.permutation(len(tune_dataset))[0:1000]\n",
    "    # dataset.extend([tune_dataset[i] for i in ran_index])\n",
    "    dataloader = DataLoader(dataset, batch_size=2000, shuffle=True)\n",
    "    loss = train(dataloader, optimizer)\n",
    "    avg_loss += loss\n",
    "    if i and i % plot_every == 0:\n",
    "        print(i, loss, avg_loss / plot_every, time.time() - s_time)\n",
    "        if avg_loss / plot_every < 0.1:\n",
    "            print(i, avg_loss / plot_every)\n",
    "            break\n",
    "        avg_loss = 0"
   ]
  },
  {
   "cell_type": "code",
   "execution_count": 74,
   "metadata": {},
   "outputs": [
    {
     "name": "stderr",
     "output_type": "stream",
     "text": [
      "100%|██████████| 1000/1000 [00:58<00:00, 17.09it/s]\n"
     ]
    }
   ],
   "source": [
    "from tqdm import tqdm\n",
    "a = set()\n",
    "for i in tqdm(range(1000)):\n",
    "    torch.manual_seed(i)\n",
    "    latent_dim = 32\n",
    "    z = torch.randn((1, latent_dim)).to(device)\n",
    "    size = decoder(z)\n",
    "    size = size.squeeze().detach().to('cpu').numpy()\n",
    "    size[size < 1e-3] = 0\n",
    "    size /= size.sum()\n",
    "\n",
    "    dis = []\n",
    "    for j in range(1000):\n",
    "        loss = JSD(size, sizedata[j])\n",
    "        dis.append(loss)\n",
    "        # if loss < 0.02:\n",
    "        #     a.add(j)\n",
    "\n",
    "    pair = np.argmin(dis)\n",
    "    a.add(pair)"
   ]
  },
  {
   "cell_type": "code",
   "execution_count": 73,
   "metadata": {},
   "outputs": [],
   "source": [
    "jsds = np.zeros((1000, 1000))\n",
    "for i in range(1000):\n",
    "    for j in range(1000):\n",
    "        jsds[i][j] = JSD(sizedata[i], sizedata[j])"
   ]
  },
  {
   "cell_type": "code",
   "execution_count": 75,
   "metadata": {},
   "outputs": [
    {
     "data": {
      "text/plain": [
       "array([0.        , 0.0712686 , 0.0989841 , 0.10461984, 0.10732551,\n",
       "       0.11061315, 0.11413909, 0.11538036, 0.11660952, 0.11782312,\n",
       "       0.12270552, 0.12357579, 0.12381709, 0.12831985, 0.12900488,\n",
       "       0.13021052, 0.13290488, 0.13328528, 0.13464494, 0.13588953,\n",
       "       0.13698097, 0.13924533, 0.14027519, 0.14082266, 0.14095486,\n",
       "       0.14102039, 0.14222849, 0.14290341, 0.14387662, 0.14660579,\n",
       "       0.14678407, 0.14694698, 0.14717077, 0.14719107, 0.14890525,\n",
       "       0.14939437, 0.14958512, 0.15188435, 0.1524103 , 0.15251156,\n",
       "       0.15369764, 0.1559504 , 0.15639397, 0.15688702, 0.15898742,\n",
       "       0.15899087, 0.16149691, 0.16396171, 0.16474164, 0.16477304,\n",
       "       0.1657369 , 0.16581361, 0.16621777, 0.16631866, 0.1666306 ,\n",
       "       0.16702055, 0.16783559, 0.16789516, 0.16937711, 0.16999767,\n",
       "       0.17006917, 0.17089419, 0.17237322, 0.17269899, 0.17295262,\n",
       "       0.17311279, 0.1738042 , 0.17434601, 0.17441435, 0.17492409,\n",
       "       0.17498089, 0.17590966, 0.17673751, 0.1767769 , 0.17685239,\n",
       "       0.17733793, 0.17733859, 0.17755393, 0.177951  , 0.17813919,\n",
       "       0.17815045, 0.17871073, 0.17879594, 0.17892494, 0.1791654 ,\n",
       "       0.17921196, 0.1801971 , 0.1807614 , 0.18117546, 0.18125231,\n",
       "       0.18135442, 0.18198672, 0.18222288, 0.18241376, 0.18258302,\n",
       "       0.18262841, 0.18266575, 0.18293546, 0.18320284, 0.18338127,\n",
       "       0.18383586, 0.18386672, 0.18406265, 0.18417186, 0.18449631,\n",
       "       0.18469741, 0.18472404, 0.18474315, 0.18486096, 0.18635224,\n",
       "       0.18651748, 0.18662395, 0.18693884, 0.18698377, 0.18719315,\n",
       "       0.18781946, 0.18836521, 0.18884797, 0.18956284, 0.18983969,\n",
       "       0.19001956, 0.19022332, 0.1902604 , 0.19076237, 0.19097689,\n",
       "       0.19151861, 0.19152719, 0.19177246, 0.19188523, 0.19231322,\n",
       "       0.19295623, 0.1931194 , 0.19357893, 0.19446891, 0.19458126,\n",
       "       0.19465321, 0.19476943, 0.19499326, 0.19504991, 0.19534656,\n",
       "       0.19608496, 0.19671116, 0.19693814, 0.19783898, 0.19786838,\n",
       "       0.1982728 , 0.19864062, 0.19908045, 0.19972837, 0.20060773,\n",
       "       0.20075074, 0.20101976, 0.20118712, 0.20120148, 0.20132543,\n",
       "       0.20145173, 0.20146317, 0.20179804, 0.20192126, 0.20241434,\n",
       "       0.20271094, 0.20293146, 0.20404812, 0.20447014, 0.20474019,\n",
       "       0.20492326, 0.20495016, 0.20538361, 0.20572343, 0.20576312,\n",
       "       0.20612296, 0.20626037, 0.20639919, 0.20696949, 0.20826728,\n",
       "       0.20885927, 0.20887153, 0.20897336, 0.20911203, 0.20918792,\n",
       "       0.20986857, 0.21055266, 0.21120023, 0.21134245, 0.21140708,\n",
       "       0.21195211, 0.21231916, 0.2123584 , 0.21285352, 0.21290893,\n",
       "       0.21292164, 0.21301341, 0.21313637, 0.21361757, 0.21449909,\n",
       "       0.21477319, 0.21501816, 0.21519042, 0.21579753, 0.21616203,\n",
       "       0.21639014, 0.21642339, 0.21683652, 0.21722668, 0.21743179,\n",
       "       0.21770664, 0.21771587, 0.21818101, 0.2184033 , 0.21898291,\n",
       "       0.21900266, 0.21918248, 0.21927371, 0.21934558, 0.21940255,\n",
       "       0.21944778, 0.21947962, 0.21966281, 0.21973549, 0.21975252,\n",
       "       0.21984796, 0.22036319, 0.22090047, 0.22147298, 0.22156073,\n",
       "       0.22157982, 0.22160772, 0.2217407 , 0.22227462, 0.2225324 ,\n",
       "       0.22270144, 0.22272389, 0.22278591, 0.22326229, 0.22348136,\n",
       "       0.22352013, 0.22385144, 0.22414126, 0.2246308 , 0.2248496 ,\n",
       "       0.22529469, 0.22537828, 0.22555107, 0.22572806, 0.22654558,\n",
       "       0.22682547, 0.22714561, 0.22725781, 0.22762842, 0.22779162,\n",
       "       0.22790799, 0.22804214, 0.22859007, 0.22862069, 0.22929094,\n",
       "       0.22962914, 0.22984653, 0.229852  , 0.23023409, 0.23025379,\n",
       "       0.23072017, 0.23144365, 0.23192409, 0.23249705, 0.23277592,\n",
       "       0.23339237, 0.23361231, 0.23404151, 0.23500077, 0.23502402,\n",
       "       0.23528629, 0.23531764, 0.23537534, 0.23545058, 0.23553714,\n",
       "       0.23563498, 0.23594436, 0.23602324, 0.23612106, 0.23627042,\n",
       "       0.23637232, 0.23641386, 0.23655684, 0.23687559, 0.23708677,\n",
       "       0.23755224, 0.23795358, 0.23853469, 0.23857294, 0.23888587,\n",
       "       0.23897496, 0.23925227, 0.23958056, 0.2398841 , 0.24003631,\n",
       "       0.2403348 , 0.24041492, 0.24134958, 0.24139177, 0.24148694,\n",
       "       0.24198383, 0.24254673, 0.24316905, 0.24340846, 0.24362422,\n",
       "       0.24400348, 0.24474908, 0.24526318, 0.24555859, 0.24594612,\n",
       "       0.24610359, 0.24627118, 0.24662194, 0.24665233, 0.24693703,\n",
       "       0.24764772, 0.24771226, 0.24774597, 0.24781387, 0.2481245 ,\n",
       "       0.24854935, 0.24855978, 0.24890758, 0.24895393, 0.24916782,\n",
       "       0.25007749, 0.25015382, 0.2503157 , 0.25059996, 0.25081337,\n",
       "       0.25185066, 0.25229848, 0.25245055, 0.25289129, 0.25331318,\n",
       "       0.2533505 , 0.25387384, 0.25513259, 0.25525203, 0.25658397,\n",
       "       0.25737137, 0.25754914, 0.25771241, 0.25822603, 0.2583451 ,\n",
       "       0.25841318, 0.25947204, 0.25995359, 0.26002243, 0.26028342,\n",
       "       0.2603924 , 0.26097775, 0.26111144, 0.26114015, 0.26182433,\n",
       "       0.26185643, 0.26188322, 0.26223239, 0.26225009, 0.26235135,\n",
       "       0.26273467, 0.26360623, 0.26368101, 0.26409175, 0.26454406,\n",
       "       0.26492847, 0.26572468, 0.2659745 , 0.26600219, 0.26604093,\n",
       "       0.26605977, 0.26621498, 0.26650083, 0.26679597, 0.26723988,\n",
       "       0.26749053, 0.26758702, 0.26797904, 0.26821143, 0.26922938,\n",
       "       0.2704383 , 0.27076334, 0.27088524, 0.27114124, 0.27173614,\n",
       "       0.27216456, 0.27220683, 0.27262086, 0.2730809 , 0.27316495,\n",
       "       0.27450374, 0.27507727, 0.27579355, 0.2764037 , 0.27649103,\n",
       "       0.27655353, 0.27664809, 0.2766998 , 0.27776084, 0.27813467,\n",
       "       0.27830197, 0.27896472, 0.27904399, 0.27916736, 0.27925291,\n",
       "       0.27948919, 0.27952152, 0.27956051, 0.27958542, 0.27991394,\n",
       "       0.28011877, 0.28037961, 0.2804614 , 0.28073998, 0.28117339,\n",
       "       0.28124103, 0.28125505, 0.28157578, 0.28256693, 0.2828647 ,\n",
       "       0.28289178, 0.28305584, 0.28308632, 0.28308888, 0.28324722,\n",
       "       0.28330103, 0.28443007, 0.2855556 , 0.28612781, 0.28697198,\n",
       "       0.28733192, 0.28735517, 0.28749486, 0.28882455, 0.28893915,\n",
       "       0.28907958, 0.28969924, 0.28980439, 0.29037346, 0.29133943,\n",
       "       0.29138968, 0.29182541, 0.29194244, 0.29200094, 0.29218193,\n",
       "       0.29344498, 0.29582257, 0.29653179, 0.29702478, 0.29855564,\n",
       "       0.29856078, 0.29924234, 0.29950011, 0.30010905, 0.30033352,\n",
       "       0.30214963, 0.3033076 , 0.30453139, 0.30488249, 0.30516044,\n",
       "       0.30526441, 0.30598692, 0.30701168, 0.30769269, 0.3083303 ,\n",
       "       0.3087238 , 0.31053665, 0.31084658, 0.31132074, 0.31251387,\n",
       "       0.31274526, 0.31293362, 0.313071  , 0.31308757, 0.31324137,\n",
       "       0.31340172, 0.31362299, 0.31385183, 0.31410506, 0.31470971,\n",
       "       0.31474685, 0.31606627, 0.31628787, 0.3165189 , 0.31691141,\n",
       "       0.31711742, 0.31787109, 0.3191704 , 0.31955154, 0.32019762,\n",
       "       0.32047015, 0.32234559, 0.32263437, 0.32388264, 0.3240724 ,\n",
       "       0.32415959, 0.32491949, 0.32504911, 0.32576048, 0.32628987,\n",
       "       0.32675987, 0.32676961, 0.32695558, 0.32826221, 0.32881858,\n",
       "       0.33030781, 0.33097694, 0.33278704, 0.33485632, 0.33657012,\n",
       "       0.3366979 , 0.33770067, 0.33772824, 0.33937936, 0.34059703,\n",
       "       0.34201449, 0.34201449, 0.34258309, 0.34270976, 0.3435679 ,\n",
       "       0.34365086, 0.34368412, 0.34396319, 0.34424276, 0.34725629,\n",
       "       0.34745442, 0.34759679, 0.34797266, 0.34931396, 0.34974604,\n",
       "       0.35014401, 0.3523915 , 0.35342043, 0.35475613, 0.35480829,\n",
       "       0.35692294, 0.35778698, 0.35883807, 0.35956611, 0.36076733,\n",
       "       0.36090711, 0.36223054, 0.36277884, 0.36427886, 0.36464182,\n",
       "       0.3656838 , 0.36915682, 0.36916669, 0.36944556, 0.37045361,\n",
       "       0.37124232, 0.37222947, 0.37246051, 0.37473295, 0.37590078,\n",
       "       0.37647556, 0.3785312 , 0.38074558, 0.38074558, 0.38106817,\n",
       "       0.38294032, 0.38330713, 0.38645282, 0.38658861, 0.38739757,\n",
       "       0.38914022, 0.38947831, 0.39065371, 0.39065731, 0.39248109,\n",
       "       0.39301651, 0.39325365, 0.39468744, 0.39596497, 0.39868444,\n",
       "       0.40145191, 0.40210522, 0.40219783, 0.40222876, 0.40311735,\n",
       "       0.40368127, 0.40388573, 0.40417469, 0.40662853, 0.40806479,\n",
       "       0.40812735, 0.41164539, 0.41339782, 0.41340748, 0.41632306,\n",
       "       0.4172043 , 0.417269  , 0.41786134, 0.41823751, 0.41832528,\n",
       "       0.42135339, 0.42250736, 0.42340714, 0.42341431, 0.42345112,\n",
       "       0.42492069, 0.4252607 , 0.4253492 , 0.42558176, 0.42681452,\n",
       "       0.42734174, 0.4285238 , 0.42865908, 0.42908997, 0.43231994,\n",
       "       0.43236087, 0.43311036, 0.43364912, 0.43403486, 0.43457784,\n",
       "       0.43641591, 0.4364635 , 0.43674932, 0.43693445, 0.43717427,\n",
       "       0.43814126, 0.44163962, 0.44238783, 0.44615488, 0.44630847,\n",
       "       0.44636155, 0.44997723, 0.45197698, 0.45461751, 0.45573847,\n",
       "       0.45637225, 0.45665096, 0.45674449, 0.45801141, 0.45866295,\n",
       "       0.45938689, 0.46274876, 0.46289106, 0.46463032, 0.46532701,\n",
       "       0.46698491, 0.46900063, 0.46927868, 0.47050006, 0.4706744 ,\n",
       "       0.47099214, 0.47231024, 0.47316277, 0.47362045, 0.47380178,\n",
       "       0.47483461, 0.47538298, 0.47605786, 0.48345764, 0.48379543,\n",
       "       0.48572486, 0.48608424, 0.48656386, 0.48779508, 0.49040046,\n",
       "       0.49433991, 0.49658484, 0.49799957, 0.50100009, 0.50169463,\n",
       "       0.50197682, 0.50275894, 0.50316597, 0.50599772, 0.50763714,\n",
       "       0.50873996, 0.51766124, 0.51896299, 0.51931578, 0.51946329,\n",
       "       0.51964744, 0.52061773, 0.52078469, 0.52420036, 0.52473401,\n",
       "       0.52769723, 0.52816925, 0.52826627, 0.53435258, 0.53471712,\n",
       "       0.53503891, 0.53516557, 0.53526988, 0.5395895 , 0.5430481 ,\n",
       "       0.54345403, 0.54364195, 0.54394195, 0.54446072, 0.54819886,\n",
       "       0.55221941, 0.55425822, 0.55651156, 0.55713981, 0.55713981,\n",
       "       0.55713981, 0.55713981, 0.55937648, 0.55953154, 0.56022074,\n",
       "       0.562201  , 0.56262987, 0.56497805, 0.56712355, 0.56773685,\n",
       "       0.5684331 , 0.56902858, 0.56975874, 0.57052667, 0.57177206,\n",
       "       0.57296696, 0.57387289, 0.57434217, 0.57459712, 0.57498937,\n",
       "       0.57632497, 0.5772049 , 0.57811433, 0.57915652, 0.57924155,\n",
       "       0.57938496, 0.57960526, 0.58077804, 0.58155701, 0.58184202,\n",
       "       0.58194423, 0.58285732, 0.58353303, 0.58411188, 0.58426232,\n",
       "       0.58483549, 0.58489462, 0.58492763, 0.58557324, 0.58574965,\n",
       "       0.58662816, 0.58669104, 0.58686393, 0.58711208, 0.58724735,\n",
       "       0.58745714, 0.58916123, 0.58924739, 0.58953028, 0.58969996,\n",
       "       0.58979823, 0.58993588, 0.59016007, 0.59024723, 0.59056136,\n",
       "       0.59058079, 0.59100415, 0.59132933, 0.59136644, 0.59168155,\n",
       "       0.59208726, 0.5925581 , 0.59265375, 0.59297742, 0.59301719,\n",
       "       0.59333787, 0.59344549, 0.59348494, 0.59350135, 0.59391524,\n",
       "       0.59420711, 0.5943282 , 0.59439991, 0.59445306, 0.59449285,\n",
       "       0.59468332, 0.59478413, 0.59484802, 0.59535395, 0.5953704 ,\n",
       "       0.59546682, 0.59558256, 0.59559649, 0.59586556, 0.59587736,\n",
       "       0.59600706, 0.59626496, 0.59642563, 0.59651898, 0.59654944,\n",
       "       0.59659429, 0.59670746, 0.59722868, 0.59724953, 0.59735165,\n",
       "       0.59744122, 0.59767431, 0.59778276, 0.59827992, 0.59835819,\n",
       "       0.59845644, 0.59858812, 0.59861667, 0.5989453 , 0.59898782,\n",
       "       0.59904065, 0.59920902, 0.59925823, 0.59949493, 0.59960255,\n",
       "       0.59964764, 0.59970026, 0.59994921, 0.59999061, 0.60070822,\n",
       "       0.60083072, 0.60087235, 0.60116484, 0.60151962, 0.60182405,\n",
       "       0.60216109, 0.60231715, 0.60238584, 0.60267546, 0.60295766,\n",
       "       0.60302033, 0.60311346, 0.60317113, 0.60338865, 0.60359637,\n",
       "       0.60414658, 0.60417474, 0.60423159, 0.60464779, 0.60470478,\n",
       "       0.60472254, 0.6050119 , 0.60508936, 0.60517311, 0.60524052,\n",
       "       0.6052662 , 0.60539681, 0.60547162, 0.60595083, 0.60606526,\n",
       "       0.60609718, 0.60610258, 0.60631853, 0.60660426, 0.60693419,\n",
       "       0.60702112, 0.60702152, 0.60712814, 0.60724399, 0.60742562,\n",
       "       0.60751242, 0.60754729, 0.60760677, 0.60804985, 0.6080941 ,\n",
       "       0.60815761, 0.60817031, 0.6085903 , 0.60871943, 0.60883582,\n",
       "       0.60884227, 0.6090395 , 0.60924093, 0.60940234, 0.60944426,\n",
       "       0.60945427, 0.60987094, 0.61002459, 0.61008427, 0.61013957,\n",
       "       0.6102212 , 0.61042352, 0.61044386, 0.61071951, 0.61072962,\n",
       "       0.61079096, 0.61082276, 0.61087635, 0.61105787, 0.61108179,\n",
       "       0.61114502, 0.61121769, 0.61130169, 0.6113294 , 0.61137894,\n",
       "       0.61137894, 0.61154942, 0.61156151, 0.6116976 , 0.61196253,\n",
       "       0.61205161, 0.61243292, 0.61247024, 0.61265191, 0.61270809,\n",
       "       0.61281137, 0.61282159, 0.61330038, 0.61337133, 0.6136343 ,\n",
       "       0.61373917, 0.61374855, 0.6137777 , 0.61380172, 0.61398216,\n",
       "       0.61519818, 0.61596933, 0.616133  , 0.61614625, 0.6161936 ,\n",
       "       0.61635543, 0.61645556, 0.61646733, 0.61654916, 0.61666782,\n",
       "       0.61669966, 0.61679626, 0.61700956, 0.61767956, 0.61784814,\n",
       "       0.61809157, 0.61846965, 0.61853303, 0.61866373, 0.61912186,\n",
       "       0.61927461, 0.6194242 , 0.61952805, 0.61957847, 0.6201609 ,\n",
       "       0.62041038, 0.62113907, 0.62120027, 0.62157555, 0.6215841 ,\n",
       "       0.62171428, 0.6219509 , 0.62259515, 0.62341043, 0.62368792,\n",
       "       0.62405424, 0.62499239, 0.62502632, 0.62516169, 0.62542184,\n",
       "       0.62552526, 0.62670995, 0.62710415, 0.62732843, 0.62752052,\n",
       "       0.62753248, 0.62826179, 0.62885748, 0.63008957, 0.63024161,\n",
       "       0.63371014, 0.63424071, 0.63438122, 0.63438122, 0.63438122,\n",
       "       0.63438122, 0.63438122, 0.63438122, 0.63438122, 0.63445863,\n",
       "       0.63450407, 0.63461787, 0.63470187, 0.63496908, 0.63889871,\n",
       "       0.64016471, 0.64182081, 0.64714655, 0.65172356, 0.65782506,\n",
       "       0.66201054, 0.66255408, 0.66631046, 0.66790865, 0.6697703 ,\n",
       "       0.6697703 , 0.68314195, 0.69314718, 0.69314718, 0.69314718,\n",
       "       0.69314718, 0.69314718, 0.69314718, 0.69314718, 0.69314718,\n",
       "       0.69314718, 0.69314718, 0.69314718, 0.69314718, 0.69314718])"
      ]
     },
     "execution_count": 75,
     "metadata": {},
     "output_type": "execute_result"
    }
   ],
   "source": [
    "np.sort(jsds[8])"
   ]
  },
  {
   "cell_type": "code",
   "execution_count": 65,
   "metadata": {},
   "outputs": [
    {
     "data": {
      "text/plain": [
       "array([  2,   1,   1,   1,   1,   1,   1,   1,   1,   1,   1,   1,   1,\n",
       "         1,   3,   1,   1,  95,   1,   1,   1,   1,   1,   2,   1,  96,\n",
       "         1,   1,   1,   4,   1,   2,   1,   1,   1,   1,   2,   1,   3,\n",
       "         1,   1,   1,   2,   3,   1,   1,   2,   4,   2,   1,   1,   1,\n",
       "         2,   1,   2,   1,   1,   1,   1,   1,   1,   1,   4,   3,   1,\n",
       "         3,   1,   2,   1,   1,   1,   1,   1,   1,   1,   1,   1,   3,\n",
       "         1,   1,   6,   2,   1,   1,   1,   1,   1,   1,   1,   1,   1,\n",
       "         1,   1,   1,   1,   1,   3,   1,   1,   1,   1,   1,   1,   6,\n",
       "         2,   1,   1,   4,   1,   2,   1,   1,   1,   1,   1,   1,   4,\n",
       "         1,   1,   1,   1,   1,   1,   1,  76,   2,   1,   1,  29,   1,\n",
       "         1,   4,   5,   1,   1,   1,   1,   1,   2,   1,   1,   5,   7,\n",
       "         4,   1,   2,   1,   5,   1,   4,   1,   1,   1,   1,  20,   7,\n",
       "         5,   1,   1,   1,   1,   1,   1,   1,   5,   1,   1,   1,   1,\n",
       "         1,   1,   1,   1,   1,   4,   2,   1,   1,   1,   1,   1,   2,\n",
       "         1,   1,   1,   1,   1,   1,   2,   1,   1,   2,   1,   1,   1,\n",
       "         1,   1,   4,   1,   1,   1,   1,   1,   1,   1,   1,   1,   3,\n",
       "         1,   1,   2,   1,   1,   1,   1,   2,   1,   3,   1,   1,   1,\n",
       "         1,   1,   2,   1,   1,   1,   1,   1,   1,   1,   1,   1,   4,\n",
       "         2,   1,   1,   3,   1,   1,   1,   1,   1,   1,   1,   1,   6,\n",
       "         2,   1,   1,   1,   1,   3,   1,   1,   1,   1,   1,   2,   1,\n",
       "         1,   1,   1,   1,   3,   1,   1,   1,   1,   8,   1,   2,   1,\n",
       "         1,   1,   1,   1,   1,   1,   1,   1,   1,   1,   3,   1,   1,\n",
       "         1,   1,   2,   1,   1,   1,   1,   1,   1,   1,   1,   1,   1,\n",
       "         6,   1,   1,   6,   1,   1,   1,   1,   8,   1,   1,   1,   1,\n",
       "         1,   1,   1,   2,   1,   1,   1,   2,   1,   1,   1,   1,   1,\n",
       "        63,  47,   1,   2,   1,   1,   6,   1,   1,   1,   1,   1,   1,\n",
       "         3,   1,   1,   3,   1,   1,   1,   1,   1,   1,   3,   1,   3,\n",
       "         1,   1,   1,   3,   2,   2,   1,   2,   1,   1,   1,   1,   1,\n",
       "         3,   1,   1,   1,   1,   2,   1,   1,   1,   1,   1,   1,   2,\n",
       "         3,   1,   3,   1,   1,   1,   1,   5,   1,   1,   2,   4,   1,\n",
       "         1,   1,   1,   1,   1,   3,   1,   2,   1,   1,   1,   1,   1,\n",
       "         2,   1,   1,   1,   1,   1,   6,   1,   6,   1,   1,   1,   1,\n",
       "         1,   1,   1,   4,   1,   1,   1,   1,   1,   1,  73,  95,   1,\n",
       "         1,   5,   1,   1,   1,   1,  80,   1,   1,   1,   1,   1,   1,\n",
       "        45,  96,   1,   1,   1,   1,   1,   1,   4,   1,   1,   1,   1,\n",
       "         1,   1,   1,   1,   8,  84,   8,   8,   8,   8,  96,   8,   1,\n",
       "         1,   1,   1,   1,   1,   1,   1,   1,   1,   2,   1,   1,   1,\n",
       "         2,   1,   2,   1,   1,   1,   1,   1,   6,   1,   1,   1,   1,\n",
       "         1,   1,   2,   2,   1,   1,   1,   4,   1,   1,   1,   1,   1,\n",
       "         1,   1,   1,   1,   1,   1,   7,   1,   2,   1,   1,   1,   1,\n",
       "         1,   1,   1,   1,  96,   4,   1,   4,   1,   1,  79,   1,   1,\n",
       "         1,   1,   1,   1,   2,   1,   1,   1,  70,  98,   1,   1,   1,\n",
       "         5,   2,  96,   1,   1,   1,  65,  48,   2,   1,  87,   1,   4,\n",
       "         1,   1,   1,   1,   1,  91,  67,  85,  86,   1,   3,   1,   2,\n",
       "         1,   1,   2,   3,   1,   1,   1,   1,   1,  85,  98,   7,  96,\n",
       "         1,   1,   1,   1,   1,   1,  94,  93,  38,  84,   5,   1,   1,\n",
       "         1,   1,  29, 100,   1,   1,   1,  96,  97,  79,  75,   1,   1,\n",
       "         2,   1,  95,  84,   1,   7,   1,  90,   1,   1,   1,  79,   3,\n",
       "         1,   6,   2,   1,   1,   1,   1,   1,   4,   1,   1,   1,   1,\n",
       "         1,   3,  96,  96,  91,  86,   2,   1,  98,  51,   1,   1,  71,\n",
       "        96,   4,   1,  74,  65,  96,   1,  96,   1,  51,  99,  95,  89,\n",
       "        86,  96,  80,  86,   1,   1,   1,  97,  86,   1,   1,   1,  98,\n",
       "         1,   4,  79,   1,   1,   1,   3,  98,  92,   1,   8,   1,   2,\n",
       "         1,   1,   4,   1,   1,  96,   1,   1,  90,   1,   1,  96,  75,\n",
       "        98,  78,   1,   1,  94,  75,  96,  90,   1,   1,  95,  86,   6,\n",
       "         1,   1,  83,  95,   1,   1,   1,   1,   1,   1,  62,  98,  75,\n",
       "         1,   1,  63,  79,  96,  91,  98,   6,   1,   1,   1,   1,   3,\n",
       "         7,   2,  96,  88,  66,  96,  88,  96,  72,  94,  54,  67,  84,\n",
       "        62,  98,  84,  54,  85,   2,  95,  61,   1,  96,  78,  95,  49,\n",
       "         1,   5,  62,  96,  96,  84,  90,  96,   1,  96,  84,  96,  83,\n",
       "         1,  98,  86,  91,  89,   1,   1,   1,   1,   1,   2,  98,  88,\n",
       "         1,   1,   1,  94,  86,  76,  96,  98,  75,  92,   1,  94,   1,\n",
       "         1,   5,   1,   1,   1,   6,  52,  96,  91,  96,  96,  34,   1,\n",
       "         1,   1,   1,   1,   1,  97,  51,   1,   1,   1,   1,   1,  74,\n",
       "        99,  88,  87,   2,  70,   1,  96,   1,   1,  84,  97,  93,  90,\n",
       "        98,  98,  92,  85,   2,   1,   1,   3,  81,  96,   1,   1,  98,\n",
       "        90,  92,  99,   1,   1,  98,  77,   1,   1,  92,   1,  82,   1,\n",
       "        97,  81,  91,  98,  98,  93,   1,   1,  62,  97,   1,   1,   1,\n",
       "         1,   6,   1,   1,   1,   1,   1,   1,   1,   1,   3,   1,   2,\n",
       "         3,   1,   1,   1,   1,  26,  86,  96,  84,   3,   1,   1,   6,\n",
       "         1,   1,   1,   1, 100,  83,   2,   1,   1,   1,   1,   1,   1,\n",
       "         1,  92,  98,  98,  71,   1,   1,   1,   2,   1,   1,  97,  93,\n",
       "         1,   1,   1,   1,   1,   1,  92,  98,   1,   2,   1,   1,   1,\n",
       "         1,  89,  94,   1,   1,  96,  94,   1,   1,   1,   1,   1,   1,\n",
       "         1,   5,   2,   1,   1,   1,   1,   1,   1,   1,   1,   1,   1,\n",
       "         1,   1,   1,   1,   1,   1,   2,   1,   1,   1,   1,   1,   1,\n",
       "         1,   1,   1,   1,   1,   2,   1,   1,   1,   1,   1,   1])"
      ]
     },
     "execution_count": 65,
     "metadata": {},
     "output_type": "execute_result"
    }
   ],
   "source": [
    "(jsds < 0.01).sum(axis=1)"
   ]
  }
 ],
 "metadata": {
  "kernelspec": {
   "display_name": "py38",
   "language": "python",
   "name": "python3"
  },
  "language_info": {
   "codemirror_mode": {
    "name": "ipython",
    "version": 3
   },
   "file_extension": ".py",
   "mimetype": "text/x-python",
   "name": "python",
   "nbconvert_exporter": "python",
   "pygments_lexer": "ipython3",
   "version": "3.8.0"
  },
  "orig_nbformat": 4
 },
 "nbformat": 4,
 "nbformat_minor": 2
}
